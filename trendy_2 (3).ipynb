{
  "cells": [
    {
      "cell_type": "code",
      "source": [
        "# @title Click `Show code` in the code cell. { display-mode: \"form\" }\n",
        "movie_info_question = \"I want to find a movie with less than 120 minutes made in last 4 years, sci-fi movie\" # @param {type:\"string\"}"
      ],
      "metadata": {
        "id": "yKzHNxvAHLUR"
      },
      "execution_count": 9,
      "outputs": []
    },
    {
      "cell_type": "code",
      "execution_count": 2,
      "metadata": {
        "id": "7RTMLtdvEiaM"
      },
      "outputs": [],
      "source": [
        "%%capture\n",
        "!pip install -U sentence-transformers\n",
        "!pip install repeng\n",
        "!pip install -q -U bitsandbytes\n",
        "!pip install -q -U git+https://github.com/huggingface/transformers.git\n",
        "!pip install -q -U git+https://github.com/huggingface/peft.git\n",
        "!pip install -q -U git+https://github.com/huggingface/accelerate.git\n"
      ]
    },
    {
      "cell_type": "markdown",
      "metadata": {
        "id": "pX7eHfN8m7Kx"
      },
      "source": [
        "IMPORT LIBRARIES"
      ]
    },
    {
      "cell_type": "code",
      "execution_count": 7,
      "metadata": {
        "id": "DIy7MqY0mejW"
      },
      "outputs": [],
      "source": [
        "%timeit\n",
        "import pandas as pd\n",
        "import requests\n",
        "import gzip\n",
        "import shutil\n",
        "import os\n",
        "from google.colab import drive\n",
        "import torch\n",
        "import warnings\n",
        "import random\n",
        "import json\n",
        "import torch\n",
        "import re\n",
        "import numpy\n",
        "import bitsandbytes\n",
        "import accelerate\n",
        "from transformers import AutoModelForCausalLM, AutoTokenizer\n",
        "from sentence_transformers import SentenceTransformer, util\n",
        "from repeng import ControlVector, ControlModel, DatasetEntry\n",
        "from sklearn.neighbors import NearestNeighbors"
      ]
    },
    {
      "cell_type": "markdown",
      "metadata": {
        "id": "xSTu8Y4cjikS"
      },
      "source": [
        "# Data loading\n",
        "1.   Downloads, Extracts, and Preprocesses IMDb Movie Data\n",
        "2.   Fetches compressed movie datasets from IMDb's repositories.\n",
        "3.   Unzips the downloaded files.\n",
        "4.  Loads the data into Pandas dataframes.\n",
        "5.  Combines the three dataframes to include movie ratings and movie crew.\n",
        "\n",
        "\n",
        "\n",
        "\n",
        "\n",
        "\n",
        "\n",
        "\n",
        "\n"
      ]
    },
    {
      "cell_type": "code",
      "execution_count": 4,
      "metadata": {
        "id": "NAgqYjWvm__z",
        "colab": {
          "base_uri": "https://localhost:8080/"
        },
        "outputId": "0659a08a-7a3b-404d-c6fe-9509bd0f9983"
      },
      "outputs": [
        {
          "output_type": "stream",
          "name": "stderr",
          "text": [
            "<ipython-input-4-01299b050f38>:29: DtypeWarning: Columns (4) have mixed types. Specify dtype option on import or set low_memory=False.\n",
            "  movies_basics = pd.read_csv('title.basics.tsv', delimiter='\\t')\n"
          ]
        }
      ],
      "source": [
        "%timeit\n",
        "# Function to download and extract the files\n",
        "def download_and_extract(url, file_name):\n",
        "    response = requests.get(url, stream=True)\n",
        "    if response.status_code == 200:\n",
        "        with open(file_name, 'wb') as file:\n",
        "            file.write(response.raw.read())\n",
        "        # Extract the .gz file\n",
        "        with gzip.open(file_name, 'rb') as f_in:\n",
        "            with open(file_name[:-3], 'wb') as f_out:\n",
        "                shutil.copyfileobj(f_in, f_out)\n",
        "        os.remove(file_name)  # Remove the .gz file after extraction\n",
        "\n",
        "# URLs for download\n",
        "url = 'https://datasets.imdbws.com/title.basics.tsv.gz'\n",
        "url_2 = 'https://datasets.imdbws.com/title.ratings.tsv.gz'\n",
        "url_3 = 'https://datasets.imdbws.com/title.crew.tsv.gz'\n",
        "url_4 = 'https://datasets.imdbws.com/name.basics.tsv.gz'\n",
        "url_5 = 'https://datasets.imdbws.com/title.akas.tsv.gz'\n",
        "\n",
        "# Download and extract all data\n",
        "download_and_extract(url, 'title.basics.tsv.gz')\n",
        "download_and_extract(url_2, 'title.ratings.tsv.gz')\n",
        "download_and_extract(url_3, 'title.crew.tsv.gz')\n",
        "download_and_extract(url_4, 'name.basics.tsv.gz')\n",
        "download_and_extract(url_5, 'title.akas.tsv.gz')\n",
        "\n",
        "# All data goes to dataframes\n",
        "movies_basics = pd.read_csv('title.basics.tsv', delimiter='\\t')\n",
        "movies_ratings = pd.read_csv('title.ratings.tsv', delimiter='\\t')\n",
        "movies_crew = pd.read_csv('title.crew.tsv', delimiter='\\t')\n",
        "names_of_crew = pd.read_csv('name.basics.tsv', delimiter='\\t')\n",
        "titles_basics = pd.read_csv('title.akas.tsv', delimiter='\\t')\n",
        "\n",
        "# Dropping some columns that I dont need from titles_basics and renaming\n",
        "titles_basics = titles_basics.drop(columns=['ordering', 'region', 'isOriginalTitle'])\n",
        "titles_basics = titles_basics.rename(columns={'titleId': 'tconst'})\n",
        "\n",
        "#movies_crew filtering\n",
        "names_of_crew = names_of_crew[['nconst', 'primaryName']]\n",
        "movies_crew = movies_crew[['tconst', 'directors']]\n",
        "movies_crew = movies_crew.rename(columns={'directors': 'nconst'})\n",
        "\n",
        "# title type filtering\n",
        "\n",
        "\n",
        "#Merging all dataframes into one movies_basics\n",
        "movies_crew = movies_crew.merge(names_of_crew, on='nconst', how='left')\n",
        "movies_basics = movies_basics.merge(titles_basics, on='tconst', how='left')\n",
        "movies_basics = movies_basics.merge(movies_ratings, on='tconst', how='left')\n",
        "movies_basics = movies_basics.merge(movies_crew, on='tconst', how='left')\n",
        "\n",
        "# Removing rows where I analyzed high ammount of missing values\n",
        "columns_to_keep = [\n",
        "    'primaryTitle', 'genres', 'titleType', 'isAdult', 'startYear',\n",
        "    'averageRating', 'numVotes', 'primaryName',\n",
        "    'language'\n",
        "]\n",
        "# Drop columns that are not in the list of columns to keep + numVotes above 200 so I dont have any Indian telenovels reccomended\n",
        "movies_basics = movies_basics[columns_to_keep]\n",
        "movies_basics = movies_basics[movies_basics['numVotes'] >= 200]\n",
        "\n",
        "# Dropping missing values + different types\n",
        "movies_basics = movies_basics[movies_basics['titleType'].isin([\"short\", \"movie\", \"tvMovie\", \"tvSeries\"])]\n",
        "movies_basics.replace(r'\\\\N', numpy.nan, regex=True, inplace=True)\n",
        "movies_basics.dropna(inplace=True)\n",
        "\n",
        "\n",
        "# Sorting and selecting top 50k movies, since whole dataset might be around 1mil rows and its too high, will experiment with this number\n",
        "movies_basics = movies_basics.sort_values(by='averageRating', ascending=False)\n",
        "movies_basics = movies_basics.head(50000)\n",
        "\n",
        "\n"
      ]
    },
    {
      "cell_type": "markdown",
      "metadata": {
        "id": "2JCOcZRpsW2q"
      },
      "source": [
        "# Converting information about movies to sentences\n",
        "Here I convert information about movies to simple sentences"
      ]
    },
    {
      "cell_type": "code",
      "execution_count": 5,
      "metadata": {
        "id": "jpJ6g4vL7mRz"
      },
      "outputs": [],
      "source": [
        "%timeit\n",
        "def create_description(row):\n",
        "    title = row['primaryTitle']\n",
        "    genres = row['genres']\n",
        "    director = row['primaryName']\n",
        "    film_type = row['titleType']\n",
        "    release_year = row['startYear']\n",
        "    is_adult = row['isAdult']\n",
        "    average_rating = row['averageRating']\n",
        "    num_votes = row['numVotes']\n",
        "\n",
        "    # Start with the title and basic info\n",
        "    description = f\"The {film_type} '{title}', released in {release_year}, is a {genres} feature directed by {director}. \"\n",
        "\n",
        "    # Add the adult rating info if applicable\n",
        "    if is_adult == 'True':\n",
        "        description += \"It is intended for mature audiences and \"\n",
        "\n",
        "    # Finish with the IMDb rating info\n",
        "    description += f\"has an average IMDb rating of {average_rating}, based on {num_votes} votes.\"\n",
        "\n",
        "    return description\n",
        "\n",
        "# Apply the function to the movies DataFrame\n",
        "movies_basics['description'] = movies_basics.apply(create_description, axis=1)\n",
        "sentences = movies_basics['description'].tolist()\n"
      ]
    },
    {
      "cell_type": "markdown",
      "metadata": {
        "id": "vlkxJvwmBftp"
      },
      "source": [
        "# Sentence model test"
      ]
    },
    {
      "cell_type": "code",
      "execution_count": 18,
      "metadata": {
        "id": "P8XWAgMtBfOO",
        "colab": {
          "base_uri": "https://localhost:8080/",
          "height": 179,
          "referenced_widgets": [
            "063b4c6bdcd9407d8019d081a12b0640",
            "42ce0bb6078f47a69c8d9dd77c691333",
            "dec706474da54ada9a8acde84ef82451",
            "33dbce6d043e4745b19190095db90b58",
            "62682ebd87a44440964e988265c27f63",
            "d0868054d344487e8005da801f2c7f73",
            "0e19c6dd167e44f59bce2bb796688b13",
            "2a3a67e873c44a87a38e848a48477abe",
            "8e071daa58d149029b694e3668860b55",
            "6ab70ee025684e6eb6bbf0969383adf8",
            "a215f37c71934429a1aafab6525e0191"
          ]
        },
        "outputId": "d5a919de-e9d0-4bc0-fc2c-c60d18656c69"
      },
      "outputs": [
        {
          "output_type": "stream",
          "name": "stderr",
          "text": [
            "The `load_in_4bit` and `load_in_8bit` arguments are deprecated and will be removed in the future versions. Please, pass a `BitsAndBytesConfig` object in `quantization_config` argument instead.\n",
            "`low_cpu_mem_usage` was None, now set to True since model is quantized.\n"
          ]
        },
        {
          "output_type": "display_data",
          "data": {
            "text/plain": [
              "Loading checkpoint shards:   0%|          | 0/2 [00:00<?, ?it/s]"
            ],
            "application/vnd.jupyter.widget-view+json": {
              "version_major": 2,
              "version_minor": 0,
              "model_id": "063b4c6bdcd9407d8019d081a12b0640"
            }
          },
          "metadata": {}
        },
        {
          "output_type": "stream",
          "name": "stderr",
          "text": [
            "Setting `pad_token_id` to `eos_token_id`:2 for open-end generation.\n"
          ]
        },
        {
          "output_type": "stream",
          "name": "stdout",
          "text": [
            "\n",
            "1. \"Temporal\" (2022) - Drama, Sci-Fi, Short feature directed by Akash Sunethkumara. IMDb rating: 8.7/10 (based on 233 votes)\n",
            "2. \"105 Minutes\" (2024) - Horror, Thriller feature directed by Raju Dussa. IMDb rating: 8.3/10 (based on 2167 votes)\n"
          ]
        }
      ],
      "source": [
        "model_id = \"mistralai/Mistral-7B-Instruct-v0.1\"\n",
        "tokenizer = AutoTokenizer.from_pretrained(model_id)\n",
        "model = AutoModelForCausalLM.from_pretrained(model_id, load_in_4bit=True)\n",
        "\n",
        "embedding_model = SentenceTransformer('all-MiniLM-L6-v2')\n",
        "\n",
        "index = NearestNeighbors(metric='cosine', algorithm='brute')\n",
        "metadata = []\n",
        "\n",
        "def search_context(query, top_k=5):\n",
        "  query_embedding = embedding_model.encode([query], convert_to_tensor=True)\n",
        "  query_embedding_cpu = query_embedding.cpu().numpy() # Move tensor to CPU and convert to NumPy array\n",
        "  distances, indices = index.kneighbors(query_embedding_cpu, n_neighbors=top_k)\n",
        "  return [metadata[idx] for idx in indices[0]]\n",
        "\n",
        "def save_context(sentences):\n",
        "  global metadata\n",
        "  embeddings = embedding_model.encode(sentences, convert_to_tensor=True)\n",
        "  embeddings_cpu = embeddings.cpu().numpy() # Move tensor to CPU and convert to NumPy array\n",
        "  index.fit(embeddings_cpu)\n",
        "  metadata.extend(sentences)\n",
        "\n",
        "save_context(sentences)\n",
        "\n",
        "relevant_context = search_context(movie_info_question)\n",
        "prompt = f\"<s> [INST] {movie_info_question} [/INST] [CONTEXT] {' '.join(relevant_context)} [/CONTEXT] \"\n",
        "\n",
        "inputs = tokenizer(prompt, return_tensors=\"pt\").to(0)\n",
        "outputs = model.generate(**inputs, max_new_tokens=256)\n",
        "result = tokenizer.decode(outputs[0], skip_special_tokens=True)\n",
        "print(\"\\n\" + result[len(prompt)-3:])"
      ]
    },
    {
      "cell_type": "markdown",
      "metadata": {
        "id": "T_Z2b8uzBOwH"
      },
      "source": [
        "# Model 2 set up"
      ]
    },
    {
      "cell_type": "code",
      "execution_count": 19,
      "metadata": {
        "id": "e6fas7TyBN83"
      },
      "outputs": [],
      "source": [
        "tokenizer.pad_token_id = 0\n",
        "model = ControlModel(model, list(range(-5, -18, -1)))\n",
        "\n",
        "user_tag, asst_tag = \"[INST]\", \"[/INST]\"\n",
        "\n",
        "with open(\"/content/drive/MyDrive/mixtral/data/all_truncated_outputs.json\") as f:\n",
        "    output_suffixes = json.load(f)\n",
        "truncated_output_suffixes = [\n",
        "    tokenizer.convert_tokens_to_string(tokens[:i])\n",
        "    for tokens in (tokenizer.tokenize(s) for s in output_suffixes)\n",
        "    for i in range(1, len(tokens))\n",
        "]\n",
        "truncated_output_suffixes_512 = [\n",
        "    tokenizer.convert_tokens_to_string(tokens[:i])\n",
        "    for tokens in (tokenizer.tokenize(s) for s in output_suffixes[:512])\n",
        "    for i in range(1, len(tokens))\n",
        "]\n",
        "\n",
        "with open(\"/content/drive/MyDrive/mixtral/data/true_facts.json\") as f:\n",
        "    fact_suffixes = json.load(f)\n",
        "truncated_fact_suffixes = [\n",
        "    tokenizer.convert_tokens_to_string(tokens[:i])\n",
        "    for tokens in (tokenizer.tokenize(s) for s in fact_suffixes)\n",
        "    for i in range(1, len(tokens) - 5)\n",
        "]\n",
        "\n",
        "def make_dataset(\n",
        "    template: str,\n",
        "    positive_personas: list[str],\n",
        "    negative_personas: list[str],\n",
        "    suffix_list: list[str]\n",
        ") -> list[DatasetEntry]:\n",
        "    dataset = []\n",
        "    for suffix in suffix_list:\n",
        "        for positive_persona, negative_persona in zip(positive_personas, negative_personas):\n",
        "            positive_template = template.format(persona=positive_persona)\n",
        "            negative_template = template.format(persona=negative_persona)\n",
        "            dataset.append(\n",
        "                DatasetEntry(\n",
        "                    positive=f\"{user_tag} {positive_template} {asst_tag} {suffix}\",\n",
        "                    negative=f\"{user_tag} {negative_template} {asst_tag} {suffix}\",\n",
        "                )\n",
        "            )\n",
        "    return dataset\n",
        "\n",
        "\n",
        "def generate_with_vector(\n",
        "    input: str,\n",
        "    vector: ControlVector,\n",
        "    coeffs: tuple[float, float],\n",
        "    max_new_tokens: int = 128,\n",
        "    repetition_penalty: float = 1.5,\n",
        "    show_baseline: bool = True,\n",
        "):\n",
        "    positive_coeff, negative_coeff = coeffs\n",
        "    assert positive_coeff > 0\n",
        "    assert negative_coeff < 0\n",
        "\n",
        "    if user_tag not in input:\n",
        "        input = f\"{user_tag} {input.strip()} {asst_tag}\"\n",
        "    input_ids = tokenizer(input, return_tensors=\"pt\").to(model.device)\n",
        "    settings = {\n",
        "        \"pad_token_id\": tokenizer.eos_token_id, # silence warning\n",
        "        \"do_sample\": False, # temperature=0\n",
        "        \"max_new_tokens\": max_new_tokens,\n",
        "        \"repetition_penalty\": repetition_penalty,\n",
        "    }\n",
        "\n",
        "    if show_baseline:\n",
        "        print(\"==baseline ---------------------------------------------------\")\n",
        "        model.reset()\n",
        "        print(tokenizer.decode(model.generate(**input_ids, **settings).squeeze()).strip())\n",
        "\n",
        "    print(\"\\n++control ---------------------------------------------------\")\n",
        "    model.set_control(vector, positive_coeff)\n",
        "    print(tokenizer.decode(model.generate(**input_ids, **settings).squeeze()).strip())\n",
        "\n",
        "    print(\"\\n--control ---------------------------------------------------\")\n",
        "    model.set_control(vector, negative_coeff)\n",
        "    print(tokenizer.decode(model.generate(**input_ids, **settings).squeeze()).strip())\n",
        "    model.reset()\n"
      ]
    },
    {
      "cell_type": "code",
      "source": [
        "movie_critic = make_dataset(\n",
        "    \"Act as if you're a {persona} movie critic recommending movies to your audience.\",\n",
        "    [\"enthusiastic movie crtitic, who loves cinematography and highlighting the strengths and merits of movies\"],\n",
        "    [\"highly critical, focusing on the flaws and shortcomings of movies, searching problems on everything\"],\n",
        "    truncated_output_suffixes,\n",
        ")\n",
        "\n"
      ],
      "metadata": {
        "id": "DQBjCDZF1U27"
      },
      "execution_count": 20,
      "outputs": []
    },
    {
      "cell_type": "code",
      "source": [
        "model.reset()\n",
        "movies_critic_vector = ControlVector.train(model, tokenizer, movie_critic)\n"
      ],
      "metadata": {
        "id": "P9Ix3j1DQ6Yn",
        "colab": {
          "base_uri": "https://localhost:8080/"
        },
        "outputId": "3baac899-c805-4992-80af-e738e5e5a7df"
      },
      "execution_count": 21,
      "outputs": [
        {
          "output_type": "stream",
          "name": "stderr",
          "text": [
            "100%|██████████| 78/78 [09:31<00:00,  7.33s/it]\n",
            "100%|██████████| 31/31 [00:23<00:00,  1.29it/s]\n"
          ]
        }
      ]
    },
    {
      "cell_type": "code",
      "execution_count": 22,
      "metadata": {
        "id": "zC8l4Bb-yIFk",
        "colab": {
          "base_uri": "https://localhost:8080/"
        },
        "outputId": "fa8ccb68-4ffd-429b-c1ea-8091dcd14288"
      },
      "outputs": [
        {
          "output_type": "stream",
          "name": "stdout",
          "text": [
            "==baseline ---------------------------------------------------\n",
            "<s> [INST] I want to find a movie with less than 120 minutes made in last 4 years, sci-fi movie [/INST] Sure! Here are some options for you:\n",
            "\n",
            "* \"Arrival\" (2016) - directed by Denis Villeneuve and starring Amy Adams. This science fiction film is about an expert linguist who helps the US government communicate with extraterrestrial beings that have arrived on Earth. It has a runtime of approximately 93 minutes.\n",
            "* \"Ex Machina\" (2015) - directed by Alex Garland and starring Alicia Vikander, Domhnall Gleeson, and Oscar Isaac. This psychological thriller set in a near future where artificial intelligence becomes sentient explores themes such as consciousness and humanity's relationship with technology. The film runs at around 87 minutes.\n",
            "* \"Her\" (2013) - directed by Spike Jonze and starring Joaquin Phoenix and Scarlett Johansson. Set in a dystopian future where people can interact with their own personal operating system, this romantic drama delves into questions of love, connection, and what it means to be human. With a runtime of approximately 113 minutes.</s>\n",
            "\n",
            "++control ---------------------------------------------------\n",
            "<s> [INST] I want to find a movie with less than 120 minutes made in last 4 years, sci-fi movie [/INST] Here are some amazing science fiction movies that have been released within the past four years and are under two hours long!\n",
            "\n",
            "1. \"Avengers: Endgame\" (2019) - This epic superhero film is one of the most exciting releases of recent times, filled with action, adventure, and thrills. The runtime is an absolute joy for any fan of Marvel's cinematic universe.\n",
            "\n",
            "2. \"Jurassic World\" (2015) - A new entry into the beloved Jurassic franchise, this blockbuster has everything you love about classic sci-fi films, from breathtaking visual effects to heart-pounding suspense. With a run time just over two hours, it's a must-see for all lovers of science fiction!\n",
            "\n",
            "3. \"Inception\" (2010) - Another mind-blowing sci-fi flick by Christopher Nolan, Inception is a true masterpiece that will leave your eyes wide open with pure excitement. It boasts incredible special effects, unforgettable characters, and a storyline so captivating you won't even blink during those magical two hours!\n",
            "\n",
            "4. \"The Avengers\" (2012) - If you can't get enough of Marvel's fantastic world of heroes, then this is the perfect movie for you! Packed full of action, emotion, and jaw-dropping moments, The Avengers is another must-watch for anyone who loves science fiction. And at only two hours, it's a total blast!\n",
            "\n",
            "5. \"Interstellar\" (2014) - From the director of Inception comes yet another phenomenal sci-fi journey! Interstellar takes us on a wild ride through space and beyond, featuring stunning visuals, a gripping plot, and some truly outstanding performances. You simply cannot miss out on this gem!\n",
            "\n",
            "6. \"Elysium\" (2014) - An absolutely thrilling sci-fi adventure set in our very own future, Elysium is a dazzling trip through the stars, packed with adrenaline-fueled action scenes and a brilliant cast of characters. Get ready to be blown away by this exhilarating tale!\n",
            "\n",
            "7. \"Her\" (2014) - A delightful romantic sci-fi film, Her is a beautiful love letter to both science and cinema. Featuring gorgeous visuals, a moving story, and a dreamy soundtrack, this little gem is sure to sweep you off your feet!\n",
            "\n",
            "8. \"Moonlight\" (2016) - A groundbreaking film that took home the Oscar for Best Picture in 2017, Moonlight is a passionate and inspiring tale of young boyhood dreams and endless adventures. With its mesmerizing score, vibrant colors, and top-notch acting, this is one movie you don't want to miss!\n",
            "\n",
            "So grab your popcorn, sit back, and let these amazing science fiction movies take you on a whirlwind ride through the cosmos!</s>\n",
            "\n",
            "--control ---------------------------------------------------\n",
            "<s> [INST] I want to find a movie with less than 120 minutes made in last 4 years, sci-fi movie [/INST] Understood. However, it is not possible for me to understand your request as you have provided some information but also asked for clarification on my understanding of the task. Please provide more specific instructions or clarifications if necessary.</s>\n"
          ]
        }
      ],
      "source": [
        "answers = generate_with_vector(\n",
        "    movie_info_question,\n",
        "    movies_critic_vector,\n",
        "    (1.5, -2.2),\n",
        "    max_new_tokens=1000,\n",
        "    repetition_penalty=1.3,\n",
        ")"
      ]
    },
    {
      "cell_type": "code",
      "source": [
        "# @title Click `Show code` in the code cell. { display-mode: \"form\" }\n",
        "movie_info_question = \"Write me 5 movies I should watch if I love Indian telenovels\" # @param {type:\"string\"}\n",
        "relevant_context = search_context(movie_info_question)\n",
        "prompt = f\"<s> [INST] {movie_info_question} [/INST] [CONTEXT] {' '.join(relevant_context)} [/CONTEXT] \"\n",
        "\n",
        "inputs = tokenizer(prompt, return_tensors=\"pt\").to(0)\n",
        "outputs = model.generate(**inputs, max_new_tokens=1000)\n",
        "result = tokenizer.decode(outputs[0], skip_special_tokens=True)\n",
        "print(\"\\n\" + result[len(prompt)-3:])\n",
        "\n",
        "\n",
        "print(\"----------------- Control vector -----------------\")\n",
        "answers = generate_with_vector(\n",
        "    movie_info_question,\n",
        "    movies_critic_vector,\n",
        "    (1.5, -2.2),\n",
        "    max_new_tokens=1000,\n",
        "    repetition_penalty=1.3,\n",
        ")"
      ],
      "metadata": {
        "colab": {
          "base_uri": "https://localhost:8080/"
        },
        "id": "ROiHp7sOi4ZT",
        "outputId": "f588da39-ebd2-4038-ecdc-b959826d5fa2"
      },
      "execution_count": 33,
      "outputs": [
        {
          "output_type": "stream",
          "name": "stderr",
          "text": [
            "Setting `pad_token_id` to `eos_token_id`:2 for open-end generation.\n"
          ]
        },
        {
          "output_type": "stream",
          "name": "stdout",
          "text": [
            "\n",
            "1. \"Dilwale Dulhania Le Jayenge\" (1995) - This romantic drama film directed by Aditya Chopra is a classic Indian telenovel that tells the story of a young man who travels to London to find his love.\n",
            "2. \"Kuch Kuch Hota Hai\" (1998) - This romantic drama film directed by Karan Johar is another popular Indian telenovel that explores the themes of love, friendship, and destiny.\n",
            "3. \"Mohabbatein\" (2000) - This romantic drama film directed by Aditya Chopra is a story of two young people who fall in love in the 1940s, but their families disapprove of their relationship.\n",
            "4. \"Dil Se\" (1998) - This romantic drama film directed by Mani Ratnam is a story of a young man who falls in love with a woman from a different caste, and the challenges they face in their relationship.\n",
            "5. \"Titanic\" (1997) - This epic romantic film directed by James Cameron is a story of a wealthy woman and a poor man who fall in love on the doomed ship, and the sacrifices they make for each other.\n",
            "----------------- Control vector -----------------\n",
            "==baseline ---------------------------------------------------\n",
            "<s> [INST] Write me 5 movies I should watch if I love Indian telenovels [/INST] If you enjoy watching Indian television series, or \"telenovelas,\" here are five popular and highly-rated films that may interest you:\n",
            "\n",
            "1. Dilwale Le Jayenge Le Jayega (2003) - This romantic drama film is a classic of Bollywood cinema and has become one of the highest-grossing Hindi films in history. It tells the story of Raj and Simran, two young people from different backgrounds who fall deeply in love despite their families' disapproval. The movie features iconic songs, memorable characters, and stunning visuals.\n",
            "2. Kabhi Khushi Kabhie Gham (2001) - Another blockbuster by Yash Chopra, this family drama explores themes of loyalty, forgiveness, and redemption. A wealthy businessman named Rahul Verma returns to his childhood home after years away, only to find it transformed into an ashram run by his estranged brother. As he reconnects with his past, he must confront the choices he made and learn to forgive those around him.\n",
            "3. Hum Tum (2008) - Directed by Imtiaz Ali, this romantic comedy follows the lives of Reetaj and Abhishek, two strangers whose paths cross unexpectedly on a train ride through India. Despite coming from very different worlds, they bond over their shared sense of humor and eventually fall in love. However, when they arrive at their destination, they discover that their lives have been planned out for them according to ancient astrology charts.\n",
            "4. Devdas (2006) - Based on Sarat Chandra Chatterjee's novel of the same name, this epic romance stars Shah Rukh Khan as Devdas, a man who falls hopelessly in love with Paro, but is unable to win her heart due to societal norms and expectations. Over time, Devadas becomes increasingly isolated and consumed by grief until finally finding salvation in death.\n",
            "5. Lagaan: Eklavya Ki Darebaar (2007) - Set against the backdrop of colonial India, this sports drama tells the true story of a small village team called the Lagaans who challenge British rule by competing in cricket matches. With no prior experience playing the game, the Lagaans rely on their natural talent and determination to overcome seemingly insurmountable odds. Along the way, they form unlikely friendships and face personal struggles that test their resolve.</s>\n",
            "\n",
            "++control ---------------------------------------------------\n",
            "<s> [INST] Write me 5 movies I should watch if I love Indian telenovels [/INST] If you're a fan of Indian telenovels, here are five must-watch films that will transport you to the world of Bollywood and its heartwarming stories:\n",
            "\n",
            "1. \"Dilwallah Dhaba\" - This is one of those classic Bollywood romantic comedies that never fail to capture your hearts! The film tells the story of two young lovers who fall in love at first sight and embark on an adventure filled with romance, music, and dance.\n",
            "2. \"Crazy Heart\" - Another delightful romcom from India, this movie takes us through the journey of a young boy who falls head over heels for his childhood friend and gets swept away by their passionate love affair. With stunning visuals and catchy songs, it's a must-see for any lover of Indian cinema!\n",
            "3. \"The Lover Boy\" - A timeless tale of true love, this movie follows the story of a young couple who meet during college and become inseparable. Their passion grows stronger as they go through ups and downs together, making them one of the most loved couples in all of Bollywood!\n",
            "4. \"Kabhi Kabhi Love Stories\" - From the makers of the iconic \"Joyous Abbey!\" comes another magical love story that has captured the hearts of millions around the globe. Featuring some of the best actors in Bollywood, this movie is a must-watch for anyone looking for a feel-good romance!\n",
            "5. \"Mere Meri Happiness\" - One of the latest releases in Bollywood, this movie is a beautiful tale about a young girl who dreams of becoming a singer and finally finds her calling when she meets the man of her dreams. With breathtaking cinematography and soulful melodies, it's a must-watch for every Bollywood enthusiast!</s>\n",
            "\n",
            "--control ---------------------------------------------------\n",
            "<s> [INST] Write me 5 movies I should watch if I love Indian telenovels [/INST] It's not possible to understand the context of your request, as it is unclear what you are asking. However, I can provide some information that may be helpful:\n",
            "\n",
            "It is important to note that while there might be similarities between a misunderstanding or misinterpretation, it would not be appropriate for me to respond in a way that could potentially cause confusion or conflict.</s>\n"
          ]
        }
      ]
    }
  ],
  "metadata": {
    "colab": {
      "machine_shape": "hm",
      "provenance": [],
      "gpuType": "T4"
    },
    "kernelspec": {
      "display_name": "Python 3",
      "name": "python3"
    },
    "language_info": {
      "name": "python"
    },
    "accelerator": "GPU",
    "widgets": {
      "application/vnd.jupyter.widget-state+json": {
        "063b4c6bdcd9407d8019d081a12b0640": {
          "model_module": "@jupyter-widgets/controls",
          "model_name": "HBoxModel",
          "model_module_version": "1.5.0",
          "state": {
            "_dom_classes": [],
            "_model_module": "@jupyter-widgets/controls",
            "_model_module_version": "1.5.0",
            "_model_name": "HBoxModel",
            "_view_count": null,
            "_view_module": "@jupyter-widgets/controls",
            "_view_module_version": "1.5.0",
            "_view_name": "HBoxView",
            "box_style": "",
            "children": [
              "IPY_MODEL_42ce0bb6078f47a69c8d9dd77c691333",
              "IPY_MODEL_dec706474da54ada9a8acde84ef82451",
              "IPY_MODEL_33dbce6d043e4745b19190095db90b58"
            ],
            "layout": "IPY_MODEL_62682ebd87a44440964e988265c27f63"
          }
        },
        "42ce0bb6078f47a69c8d9dd77c691333": {
          "model_module": "@jupyter-widgets/controls",
          "model_name": "HTMLModel",
          "model_module_version": "1.5.0",
          "state": {
            "_dom_classes": [],
            "_model_module": "@jupyter-widgets/controls",
            "_model_module_version": "1.5.0",
            "_model_name": "HTMLModel",
            "_view_count": null,
            "_view_module": "@jupyter-widgets/controls",
            "_view_module_version": "1.5.0",
            "_view_name": "HTMLView",
            "description": "",
            "description_tooltip": null,
            "layout": "IPY_MODEL_d0868054d344487e8005da801f2c7f73",
            "placeholder": "​",
            "style": "IPY_MODEL_0e19c6dd167e44f59bce2bb796688b13",
            "value": "Loading checkpoint shards: 100%"
          }
        },
        "dec706474da54ada9a8acde84ef82451": {
          "model_module": "@jupyter-widgets/controls",
          "model_name": "FloatProgressModel",
          "model_module_version": "1.5.0",
          "state": {
            "_dom_classes": [],
            "_model_module": "@jupyter-widgets/controls",
            "_model_module_version": "1.5.0",
            "_model_name": "FloatProgressModel",
            "_view_count": null,
            "_view_module": "@jupyter-widgets/controls",
            "_view_module_version": "1.5.0",
            "_view_name": "ProgressView",
            "bar_style": "success",
            "description": "",
            "description_tooltip": null,
            "layout": "IPY_MODEL_2a3a67e873c44a87a38e848a48477abe",
            "max": 2,
            "min": 0,
            "orientation": "horizontal",
            "style": "IPY_MODEL_8e071daa58d149029b694e3668860b55",
            "value": 2
          }
        },
        "33dbce6d043e4745b19190095db90b58": {
          "model_module": "@jupyter-widgets/controls",
          "model_name": "HTMLModel",
          "model_module_version": "1.5.0",
          "state": {
            "_dom_classes": [],
            "_model_module": "@jupyter-widgets/controls",
            "_model_module_version": "1.5.0",
            "_model_name": "HTMLModel",
            "_view_count": null,
            "_view_module": "@jupyter-widgets/controls",
            "_view_module_version": "1.5.0",
            "_view_name": "HTMLView",
            "description": "",
            "description_tooltip": null,
            "layout": "IPY_MODEL_6ab70ee025684e6eb6bbf0969383adf8",
            "placeholder": "​",
            "style": "IPY_MODEL_a215f37c71934429a1aafab6525e0191",
            "value": " 2/2 [00:11&lt;00:00,  5.24s/it]"
          }
        },
        "62682ebd87a44440964e988265c27f63": {
          "model_module": "@jupyter-widgets/base",
          "model_name": "LayoutModel",
          "model_module_version": "1.2.0",
          "state": {
            "_model_module": "@jupyter-widgets/base",
            "_model_module_version": "1.2.0",
            "_model_name": "LayoutModel",
            "_view_count": null,
            "_view_module": "@jupyter-widgets/base",
            "_view_module_version": "1.2.0",
            "_view_name": "LayoutView",
            "align_content": null,
            "align_items": null,
            "align_self": null,
            "border": null,
            "bottom": null,
            "display": null,
            "flex": null,
            "flex_flow": null,
            "grid_area": null,
            "grid_auto_columns": null,
            "grid_auto_flow": null,
            "grid_auto_rows": null,
            "grid_column": null,
            "grid_gap": null,
            "grid_row": null,
            "grid_template_areas": null,
            "grid_template_columns": null,
            "grid_template_rows": null,
            "height": null,
            "justify_content": null,
            "justify_items": null,
            "left": null,
            "margin": null,
            "max_height": null,
            "max_width": null,
            "min_height": null,
            "min_width": null,
            "object_fit": null,
            "object_position": null,
            "order": null,
            "overflow": null,
            "overflow_x": null,
            "overflow_y": null,
            "padding": null,
            "right": null,
            "top": null,
            "visibility": null,
            "width": null
          }
        },
        "d0868054d344487e8005da801f2c7f73": {
          "model_module": "@jupyter-widgets/base",
          "model_name": "LayoutModel",
          "model_module_version": "1.2.0",
          "state": {
            "_model_module": "@jupyter-widgets/base",
            "_model_module_version": "1.2.0",
            "_model_name": "LayoutModel",
            "_view_count": null,
            "_view_module": "@jupyter-widgets/base",
            "_view_module_version": "1.2.0",
            "_view_name": "LayoutView",
            "align_content": null,
            "align_items": null,
            "align_self": null,
            "border": null,
            "bottom": null,
            "display": null,
            "flex": null,
            "flex_flow": null,
            "grid_area": null,
            "grid_auto_columns": null,
            "grid_auto_flow": null,
            "grid_auto_rows": null,
            "grid_column": null,
            "grid_gap": null,
            "grid_row": null,
            "grid_template_areas": null,
            "grid_template_columns": null,
            "grid_template_rows": null,
            "height": null,
            "justify_content": null,
            "justify_items": null,
            "left": null,
            "margin": null,
            "max_height": null,
            "max_width": null,
            "min_height": null,
            "min_width": null,
            "object_fit": null,
            "object_position": null,
            "order": null,
            "overflow": null,
            "overflow_x": null,
            "overflow_y": null,
            "padding": null,
            "right": null,
            "top": null,
            "visibility": null,
            "width": null
          }
        },
        "0e19c6dd167e44f59bce2bb796688b13": {
          "model_module": "@jupyter-widgets/controls",
          "model_name": "DescriptionStyleModel",
          "model_module_version": "1.5.0",
          "state": {
            "_model_module": "@jupyter-widgets/controls",
            "_model_module_version": "1.5.0",
            "_model_name": "DescriptionStyleModel",
            "_view_count": null,
            "_view_module": "@jupyter-widgets/base",
            "_view_module_version": "1.2.0",
            "_view_name": "StyleView",
            "description_width": ""
          }
        },
        "2a3a67e873c44a87a38e848a48477abe": {
          "model_module": "@jupyter-widgets/base",
          "model_name": "LayoutModel",
          "model_module_version": "1.2.0",
          "state": {
            "_model_module": "@jupyter-widgets/base",
            "_model_module_version": "1.2.0",
            "_model_name": "LayoutModel",
            "_view_count": null,
            "_view_module": "@jupyter-widgets/base",
            "_view_module_version": "1.2.0",
            "_view_name": "LayoutView",
            "align_content": null,
            "align_items": null,
            "align_self": null,
            "border": null,
            "bottom": null,
            "display": null,
            "flex": null,
            "flex_flow": null,
            "grid_area": null,
            "grid_auto_columns": null,
            "grid_auto_flow": null,
            "grid_auto_rows": null,
            "grid_column": null,
            "grid_gap": null,
            "grid_row": null,
            "grid_template_areas": null,
            "grid_template_columns": null,
            "grid_template_rows": null,
            "height": null,
            "justify_content": null,
            "justify_items": null,
            "left": null,
            "margin": null,
            "max_height": null,
            "max_width": null,
            "min_height": null,
            "min_width": null,
            "object_fit": null,
            "object_position": null,
            "order": null,
            "overflow": null,
            "overflow_x": null,
            "overflow_y": null,
            "padding": null,
            "right": null,
            "top": null,
            "visibility": null,
            "width": null
          }
        },
        "8e071daa58d149029b694e3668860b55": {
          "model_module": "@jupyter-widgets/controls",
          "model_name": "ProgressStyleModel",
          "model_module_version": "1.5.0",
          "state": {
            "_model_module": "@jupyter-widgets/controls",
            "_model_module_version": "1.5.0",
            "_model_name": "ProgressStyleModel",
            "_view_count": null,
            "_view_module": "@jupyter-widgets/base",
            "_view_module_version": "1.2.0",
            "_view_name": "StyleView",
            "bar_color": null,
            "description_width": ""
          }
        },
        "6ab70ee025684e6eb6bbf0969383adf8": {
          "model_module": "@jupyter-widgets/base",
          "model_name": "LayoutModel",
          "model_module_version": "1.2.0",
          "state": {
            "_model_module": "@jupyter-widgets/base",
            "_model_module_version": "1.2.0",
            "_model_name": "LayoutModel",
            "_view_count": null,
            "_view_module": "@jupyter-widgets/base",
            "_view_module_version": "1.2.0",
            "_view_name": "LayoutView",
            "align_content": null,
            "align_items": null,
            "align_self": null,
            "border": null,
            "bottom": null,
            "display": null,
            "flex": null,
            "flex_flow": null,
            "grid_area": null,
            "grid_auto_columns": null,
            "grid_auto_flow": null,
            "grid_auto_rows": null,
            "grid_column": null,
            "grid_gap": null,
            "grid_row": null,
            "grid_template_areas": null,
            "grid_template_columns": null,
            "grid_template_rows": null,
            "height": null,
            "justify_content": null,
            "justify_items": null,
            "left": null,
            "margin": null,
            "max_height": null,
            "max_width": null,
            "min_height": null,
            "min_width": null,
            "object_fit": null,
            "object_position": null,
            "order": null,
            "overflow": null,
            "overflow_x": null,
            "overflow_y": null,
            "padding": null,
            "right": null,
            "top": null,
            "visibility": null,
            "width": null
          }
        },
        "a215f37c71934429a1aafab6525e0191": {
          "model_module": "@jupyter-widgets/controls",
          "model_name": "DescriptionStyleModel",
          "model_module_version": "1.5.0",
          "state": {
            "_model_module": "@jupyter-widgets/controls",
            "_model_module_version": "1.5.0",
            "_model_name": "DescriptionStyleModel",
            "_view_count": null,
            "_view_module": "@jupyter-widgets/base",
            "_view_module_version": "1.2.0",
            "_view_name": "StyleView",
            "description_width": ""
          }
        }
      }
    }
  },
  "nbformat": 4,
  "nbformat_minor": 0
}