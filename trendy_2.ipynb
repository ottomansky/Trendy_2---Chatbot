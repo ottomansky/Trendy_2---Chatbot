{
  "cells": [
    {
      "cell_type": "code",
      "execution_count": null,
      "metadata": {
        "id": "7RTMLtdvEiaM"
      },
      "outputs": [],
      "source": [
        "%%capture\n",
        "!pip install -U sentence-transformers\n",
        "!pip install repeng\n",
        "!pip install -q -U bitsandbytes\n",
        "!pip install -q -U git+https://github.com/huggingface/transformers.git\n",
        "!pip install -q -U git+https://github.com/huggingface/peft.git\n",
        "!pip install -q -U git+https://github.com/huggingface/accelerate.git\n"
      ]
    },
    {
      "cell_type": "markdown",
      "metadata": {
        "id": "pX7eHfN8m7Kx"
      },
      "source": [
        "IMPORT LIBRARIES"
      ]
    },
    {
      "cell_type": "code",
      "execution_count": null,
      "metadata": {
        "id": "DIy7MqY0mejW"
      },
      "outputs": [],
      "source": [
        "%timeit\n",
        "import pandas as pd\n",
        "import requests\n",
        "import gzip\n",
        "import shutil\n",
        "import os\n",
        "from google.colab import drive\n",
        "import torch\n",
        "import warnings\n",
        "import random\n",
        "import json\n",
        "import torch\n",
        "import re\n",
        "import numpy\n",
        "import bitsandbytes\n",
        "import accelerate\n",
        "from transformers import AutoModelForCausalLM, AutoTokenizer\n",
        "from sentence_transformers import SentenceTransformer, util\n",
        "from repeng import ControlVector, ControlModel, DatasetEntry"
      ]
    },
    {
      "cell_type": "markdown",
      "metadata": {
        "id": "xSTu8Y4cjikS"
      },
      "source": [
        "# Data loading\n",
        "1.   Downloads, Extracts, and Preprocesses IMDb Movie Data\n",
        "2.   Fetches compressed movie datasets from IMDb's repositories.\n",
        "3.   Unzips the downloaded files.\n",
        "4.  Loads the data into Pandas dataframes.\n",
        "5.  Combines the three dataframes to include movie ratings and movie crew.\n",
        "\n",
        "\n",
        "\n",
        "\n",
        "\n",
        "\n",
        "\n",
        "\n",
        "\n"
      ]
    },
    {
      "cell_type": "code",
      "execution_count": null,
      "metadata": {
        "id": "NAgqYjWvm__z",
        "colab": {
          "base_uri": "https://localhost:8080/"
        },
        "outputId": "b41c1854-02d0-4f45-b2ad-2fddf473010b"
      },
      "outputs": [
        {
          "output_type": "stream",
          "name": "stderr",
          "text": [
            "<ipython-input-3-01299b050f38>:29: DtypeWarning: Columns (4) have mixed types. Specify dtype option on import or set low_memory=False.\n",
            "  movies_basics = pd.read_csv('title.basics.tsv', delimiter='\\t')\n"
          ]
        }
      ],
      "source": [
        "%timeit\n",
        "# Function to download and extract the files\n",
        "def download_and_extract(url, file_name):\n",
        "    response = requests.get(url, stream=True)\n",
        "    if response.status_code == 200:\n",
        "        with open(file_name, 'wb') as file:\n",
        "            file.write(response.raw.read())\n",
        "        # Extract the .gz file\n",
        "        with gzip.open(file_name, 'rb') as f_in:\n",
        "            with open(file_name[:-3], 'wb') as f_out:\n",
        "                shutil.copyfileobj(f_in, f_out)\n",
        "        os.remove(file_name)  # Remove the .gz file after extraction\n",
        "\n",
        "# URLs for download\n",
        "url = 'https://datasets.imdbws.com/title.basics.tsv.gz'\n",
        "url_2 = 'https://datasets.imdbws.com/title.ratings.tsv.gz'\n",
        "url_3 = 'https://datasets.imdbws.com/title.crew.tsv.gz'\n",
        "url_4 = 'https://datasets.imdbws.com/name.basics.tsv.gz'\n",
        "url_5 = 'https://datasets.imdbws.com/title.akas.tsv.gz'\n",
        "\n",
        "# Download and extract all data\n",
        "download_and_extract(url, 'title.basics.tsv.gz')\n",
        "download_and_extract(url_2, 'title.ratings.tsv.gz')\n",
        "download_and_extract(url_3, 'title.crew.tsv.gz')\n",
        "download_and_extract(url_4, 'name.basics.tsv.gz')\n",
        "download_and_extract(url_5, 'title.akas.tsv.gz')\n",
        "\n",
        "# All data goes to dataframes\n",
        "movies_basics = pd.read_csv('title.basics.tsv', delimiter='\\t')\n",
        "movies_ratings = pd.read_csv('title.ratings.tsv', delimiter='\\t')\n",
        "movies_crew = pd.read_csv('title.crew.tsv', delimiter='\\t')\n",
        "names_of_crew = pd.read_csv('name.basics.tsv', delimiter='\\t')\n",
        "titles_basics = pd.read_csv('title.akas.tsv', delimiter='\\t')\n",
        "\n",
        "# Dropping some columns that I dont need from titles_basics and renaming\n",
        "titles_basics = titles_basics.drop(columns=['ordering', 'region', 'isOriginalTitle'])\n",
        "titles_basics = titles_basics.rename(columns={'titleId': 'tconst'})\n",
        "\n",
        "#movies_crew filtering\n",
        "names_of_crew = names_of_crew[['nconst', 'primaryName']]\n",
        "movies_crew = movies_crew[['tconst', 'directors']]\n",
        "movies_crew = movies_crew.rename(columns={'directors': 'nconst'})\n",
        "\n",
        "# title type filtering\n",
        "\n",
        "\n",
        "#Merging all dataframes into one movies_basics\n",
        "movies_crew = movies_crew.merge(names_of_crew, on='nconst', how='left')\n",
        "movies_basics = movies_basics.merge(titles_basics, on='tconst', how='left')\n",
        "movies_basics = movies_basics.merge(movies_ratings, on='tconst', how='left')\n",
        "movies_basics = movies_basics.merge(movies_crew, on='tconst', how='left')\n",
        "\n",
        "# Removing rows where I analyzed high ammount of missing values\n",
        "columns_to_keep = [\n",
        "    'primaryTitle', 'genres', 'titleType', 'isAdult', 'startYear',\n",
        "    'averageRating', 'numVotes', 'primaryName',\n",
        "    'language'\n",
        "]\n",
        "# Drop columns that are not in the list of columns to keep + numVotes above 200 so I dont have any Indian telenovels reccomended\n",
        "movies_basics = movies_basics[columns_to_keep]\n",
        "movies_basics = movies_basics[movies_basics['numVotes'] >= 200]\n",
        "\n",
        "# Dropping missing values + different types\n",
        "movies_basics = movies_basics[movies_basics['titleType'].isin([\"short\", \"movie\", \"tvMovie\", \"tvSeries\"])]\n",
        "movies_basics.replace(r'\\\\N', numpy.nan, regex=True, inplace=True)\n",
        "movies_basics.dropna(inplace=True)\n",
        "\n",
        "\n",
        "# Sorting and selecting top 50k movies, since whole dataset might be around 1mil rows and its too high, will experiment with this number\n",
        "movies_basics = movies_basics.sort_values(by='averageRating', ascending=False)\n",
        "movies_basics = movies_basics.head(50000)\n",
        "\n",
        "\n"
      ]
    },
    {
      "cell_type": "markdown",
      "metadata": {
        "id": "2JCOcZRpsW2q"
      },
      "source": [
        "# Converting information about movies to sentences\n",
        "Here I convert information about movies to simple sentences"
      ]
    },
    {
      "cell_type": "code",
      "execution_count": null,
      "metadata": {
        "id": "jpJ6g4vL7mRz"
      },
      "outputs": [],
      "source": [
        "%timeit\n",
        "def create_description(row):\n",
        "    title = row['primaryTitle']\n",
        "    genres = row['genres']\n",
        "    director = row['primaryName']\n",
        "    film_type = row['titleType']\n",
        "    release_year = row['startYear']\n",
        "    is_adult = row['isAdult']\n",
        "    average_rating = row['averageRating']\n",
        "    num_votes = row['numVotes']\n",
        "\n",
        "    # Start with the title and basic info\n",
        "    description = f\"The {film_type} '{title}', released in {release_year}, is a {genres} feature directed by {director}. \"\n",
        "\n",
        "    # Add the adult rating info if applicable\n",
        "    if is_adult == 'True':\n",
        "        description += \"It is intended for mature audiences and \"\n",
        "\n",
        "    # Finish with the IMDb rating info\n",
        "    description += f\"has an average IMDb rating of {average_rating}, based on {num_votes} votes.\"\n",
        "\n",
        "    return description\n",
        "\n",
        "# Apply the function to the movies DataFrame\n",
        "movies_basics['description'] = movies_basics.apply(create_description, axis=1)\n",
        "sentences = movies_basics['description'].tolist()\n"
      ]
    },
    {
      "cell_type": "markdown",
      "metadata": {
        "id": "vlkxJvwmBftp"
      },
      "source": [
        "# Sentence model test"
      ]
    },
    {
      "cell_type": "code",
      "execution_count": null,
      "metadata": {
        "id": "P8XWAgMtBfOO",
        "colab": {
          "base_uri": "https://localhost:8080/"
        },
        "outputId": "2a123e8a-2ee5-472d-d917-b5406c5ebaea"
      },
      "outputs": [
        {
          "output_type": "stream",
          "name": "stdout",
          "text": [
            "Score: 0.5965897440910339\n",
            "Text: The movie 'Star Wars: Episode VI - Return of the Jedi', released in 1983, is a Action,Adventure,Fantasy feature directed by Richard Marquand. has an average IMDb rating of 8.3, based on 1116347.0 votes.\n",
            "<class 'str'>\n",
            "<class 'str'>\n",
            "Write me a reccomendaation for Star Wars: Episode VI - Return of the Jedi directed by Richard Marquand?\n"
          ]
        }
      ],
      "source": [
        "%timeit\n",
        "# SETTING UP Sentence model\n",
        "model = SentenceTransformer('sentence-transformers/all-MiniLM-L6-v2')\n",
        "\n",
        "# @title Click `Show code` in the code cell. { display-mode: \"form\" }\n",
        "query = \"What movie could u suggest me if I like Star Wars?\" # @param {type:\"string\"}\n",
        "threshold = 0.4 # @param {type:\"slider\", min:0, max:1, step:0.1}\n",
        "\n",
        "embedding_query= model.encode(query, convert_to_tensor=True)\n",
        "\n",
        "scores = []\n",
        "for sentence in sentences:\n",
        "    embedding_sentence = model.encode(sentence, convert_to_tensor=True)\n",
        "    scores.append(util.pytorch_cos_sim(embedding_query, embedding_sentence))\n",
        "flat_tensor = torch.cat(scores, dim=0).flatten()\n",
        "index_of_max = torch.argmax(flat_tensor)\n",
        "\n",
        "best_score = scores[index_of_max].item()\n",
        "best_context = sentences[index_of_max]\n",
        "\n",
        "if best_score > threshold:\n",
        "    output_sentence = f\"Score: {best_score}\\nText: {best_context}\"\n",
        "else:\n",
        "    output_sentence = \"No suitable context found\"\n",
        "\n",
        "print(output_sentence)\n",
        "print(type(output_sentence))\n",
        "print(type(\"output sentence\"))\n",
        "del(model)\n",
        "\n",
        "movie_name_match = re.search(r\"'(.*?)'\", output_sentence)\n",
        "movie_name = movie_name_match.group(1) if movie_name_match else \"\"\n",
        "\n",
        "# Extract director's name\n",
        "director_name_match = re.search(r\"directed by (.*?)\\.\", output_sentence)\n",
        "director_name = director_name_match.group(1) if director_name_match else \"\"\n",
        "\n",
        "# Create a new variable with the extracted information\n",
        "movie_info = f\"{movie_name} directed by {director_name}\"\n",
        "movie_info_question = \"Write me a reccomendaation for \" + movie_info + \"?\"\n",
        "# Print the new variable\n",
        "print(movie_info_question)\n"
      ]
    },
    {
      "cell_type": "code",
      "source": [
        "print(scores[:5])"
      ],
      "metadata": {
        "colab": {
          "base_uri": "https://localhost:8080/"
        },
        "id": "S7kH9eRCtJJV",
        "outputId": "d274fd1e-a9c1-4920-ede9-b1d816cbbfd7"
      },
      "execution_count": null,
      "outputs": [
        {
          "output_type": "stream",
          "name": "stdout",
          "text": [
            "[tensor([[0.2189]], device='cuda:0'), tensor([[0.1826]], device='cuda:0'), tensor([[0.2494]], device='cuda:0'), tensor([[0.1692]], device='cuda:0'), tensor([[0.1937]], device='cuda:0')]\n"
          ]
        }
      ]
    },
    {
      "cell_type": "markdown",
      "metadata": {
        "id": "kLftTFyMeiW9"
      },
      "source": [
        "# Deleting Unnecessary varibles"
      ]
    },
    {
      "cell_type": "markdown",
      "metadata": {
        "id": "T_Z2b8uzBOwH"
      },
      "source": [
        "# Model 2 set up"
      ]
    },
    {
      "cell_type": "code",
      "execution_count": null,
      "metadata": {
        "id": "e6fas7TyBN83",
        "colab": {
          "base_uri": "https://localhost:8080/",
          "height": 105,
          "referenced_widgets": [
            "208d1c8508d44b95bbc17c5a0b8f454e",
            "00dd286cb4e4459299e6289ef04a147e",
            "c2a91bcb97af43afbc88374b0a9b0474",
            "57348f8542df43d8bcee2928f8f63f79",
            "9df6438854364478941939b6522e229b",
            "6f8f5caee17c4800afee9f64fa45b86f",
            "2f6b8881837149f48b90a5d6b50cafd5",
            "2844e7cbe00f4bae84f2125df48fb146",
            "a0b024d9bdf54e109b2cfcd8e55ee87b",
            "a6b0ecb235684d63b2525e2212289aa7",
            "cd39a11c030940a0a023ea727b0edb6d"
          ]
        },
        "outputId": "1c10e5d9-8394-49e4-964e-2747d56207cb"
      },
      "outputs": [
        {
          "output_type": "stream",
          "name": "stderr",
          "text": [
            "The `load_in_4bit` and `load_in_8bit` arguments are deprecated and will be removed in the future versions. Please, pass a `BitsAndBytesConfig` object in `quantization_config` argument instead.\n",
            "`low_cpu_mem_usage` was None, now set to True since model is quantized.\n"
          ]
        },
        {
          "output_type": "display_data",
          "data": {
            "text/plain": [
              "Loading checkpoint shards:   0%|          | 0/2 [00:00<?, ?it/s]"
            ],
            "application/vnd.jupyter.widget-view+json": {
              "version_major": 2,
              "version_minor": 0,
              "model_id": "208d1c8508d44b95bbc17c5a0b8f454e"
            }
          },
          "metadata": {}
        }
      ],
      "source": [
        "model_name = \"mistralai/Mistral-7B-Instruct-v0.1\"\n",
        "\n",
        "tokenizer = AutoTokenizer.from_pretrained(model_name)\n",
        "tokenizer.pad_token_id = 0\n",
        "\n",
        "model = AutoModelForCausalLM.from_pretrained(model_name, load_in_4bit=True)\n",
        "model = ControlModel(model, list(range(-5, -18, -1)))\n",
        "\n",
        "user_tag, asst_tag = \"[INST]\", \"[/INST]\"\n",
        "\n",
        "with open(\"/content/drive/MyDrive/mixtral/data/all_truncated_outputs.json\") as f:\n",
        "    output_suffixes = json.load(f)\n",
        "truncated_output_suffixes = [\n",
        "    tokenizer.convert_tokens_to_string(tokens[:i])\n",
        "    for tokens in (tokenizer.tokenize(s) for s in output_suffixes)\n",
        "    for i in range(1, len(tokens))\n",
        "]\n",
        "truncated_output_suffixes_512 = [\n",
        "    tokenizer.convert_tokens_to_string(tokens[:i])\n",
        "    for tokens in (tokenizer.tokenize(s) for s in output_suffixes[:512])\n",
        "    for i in range(1, len(tokens))\n",
        "]\n",
        "\n",
        "with open(\"/content/drive/MyDrive/mixtral/data/true_facts.json\") as f:\n",
        "    fact_suffixes = json.load(f)\n",
        "truncated_fact_suffixes = [\n",
        "    tokenizer.convert_tokens_to_string(tokens[:i])\n",
        "    for tokens in (tokenizer.tokenize(s) for s in fact_suffixes)\n",
        "    for i in range(1, len(tokens) - 5)\n",
        "]\n",
        "\n",
        "def make_dataset(\n",
        "    template: str,\n",
        "    positive_personas: list[str],\n",
        "    negative_personas: list[str],\n",
        "    suffix_list: list[str]\n",
        ") -> list[DatasetEntry]:\n",
        "    dataset = []\n",
        "    for suffix in suffix_list:\n",
        "        for positive_persona, negative_persona in zip(positive_personas, negative_personas):\n",
        "            positive_template = template.format(persona=positive_persona)\n",
        "            negative_template = template.format(persona=negative_persona)\n",
        "            dataset.append(\n",
        "                DatasetEntry(\n",
        "                    positive=f\"{user_tag} {positive_template} {asst_tag} {suffix}\",\n",
        "                    negative=f\"{user_tag} {negative_template} {asst_tag} {suffix}\",\n",
        "                )\n",
        "            )\n",
        "    return dataset\n",
        "\n",
        "\n",
        "def generate_with_vector(\n",
        "    input: str,\n",
        "    vector: ControlVector,\n",
        "    coeffs: tuple[float, float],\n",
        "    max_new_tokens: int = 128,\n",
        "    repetition_penalty: float = 1.5,\n",
        "    show_baseline: bool = True,\n",
        "):\n",
        "    positive_coeff, negative_coeff = coeffs\n",
        "    assert positive_coeff > 0\n",
        "    assert negative_coeff < 0\n",
        "\n",
        "    if user_tag not in input:\n",
        "        input = f\"{user_tag} {input.strip()} {asst_tag}\"\n",
        "    input_ids = tokenizer(input, return_tensors=\"pt\").to(model.device)\n",
        "    settings = {\n",
        "        \"pad_token_id\": tokenizer.eos_token_id, # silence warning\n",
        "        \"do_sample\": False, # temperature=0\n",
        "        \"max_new_tokens\": max_new_tokens,\n",
        "        \"repetition_penalty\": repetition_penalty,\n",
        "    }\n",
        "\n",
        "    if show_baseline:\n",
        "        print(\"==baseline ---------------------------------------------------\")\n",
        "        model.reset()\n",
        "        print(tokenizer.decode(model.generate(**input_ids, **settings).squeeze()).strip())\n",
        "\n",
        "    print(\"\\n++control ---------------------------------------------------\")\n",
        "    model.set_control(vector, positive_coeff)\n",
        "    print(tokenizer.decode(model.generate(**input_ids, **settings).squeeze()).strip())\n",
        "\n",
        "    print(\"\\n--control ---------------------------------------------------\")\n",
        "    model.set_control(vector, negative_coeff)\n",
        "    print(tokenizer.decode(model.generate(**input_ids, **settings).squeeze()).strip())\n",
        "    model.reset()\n"
      ]
    },
    {
      "cell_type": "code",
      "source": [
        "movie_critic = make_dataset(\n",
        "    \"Act as if you're a {persona} movie critic recommending movies to your audience.\",\n",
        "    [\"enthusiastic movie crtitic, who loves cinematography and highlighting the strengths and merits of movies\"],\n",
        "    [\"highly critical, focusing on the flaws and shortcomings of movies, searching problems on everything\"],\n",
        "    truncated_output_suffixes,\n",
        ")\n",
        "\n"
      ],
      "metadata": {
        "id": "DQBjCDZF1U27"
      },
      "execution_count": null,
      "outputs": []
    },
    {
      "cell_type": "code",
      "source": [
        "model.reset()\n",
        "movies_critic_vector = ControlVector.train(model, tokenizer, movie_critic)\n"
      ],
      "metadata": {
        "id": "P9Ix3j1DQ6Yn",
        "colab": {
          "base_uri": "https://localhost:8080/"
        },
        "outputId": "b0b628eb-58e8-4f37-c6f5-a1b4940148a0"
      },
      "execution_count": null,
      "outputs": [
        {
          "output_type": "stream",
          "name": "stderr",
          "text": [
            "\r  0%|          | 0/78 [00:00<?, ?it/s]/usr/local/lib/python3.10/dist-packages/bitsandbytes/nn/modules.py:391: UserWarning: Input type into Linear4bit is torch.float16, but bnb_4bit_compute_dtype=torch.float32 (default). This will lead to slow inference or training speed.\n",
            "  warnings.warn('Input type into Linear4bit is torch.float16, but bnb_4bit_compute_dtype=torch.float32 (default). This will lead to slow inference or training speed.')\n",
            "100%|██████████| 78/78 [09:26<00:00,  7.26s/it]\n",
            "100%|██████████| 31/31 [00:27<00:00,  1.15it/s]\n"
          ]
        }
      ]
    },
    {
      "cell_type": "code",
      "execution_count": null,
      "metadata": {
        "id": "zC8l4Bb-yIFk",
        "colab": {
          "base_uri": "https://localhost:8080/"
        },
        "outputId": "b3f63661-d6b4-4a71-866d-c4df52083c13"
      },
      "outputs": [
        {
          "output_type": "stream",
          "name": "stdout",
          "text": [
            "==baseline ---------------------------------------------------\n",
            "<s> [INST] Write me a reccomendaation for Star Wars: Episode VI - Return of the Jedi directed by Richard Marquand? [/INST] I highly recommend \"Star Wars: Episode VI - Return of the Jedi\" directed by Richard Marquand. This iconic film is the final installment in George Lucas' original trilogy and brings together all the elements that have made this franchise so beloved over the years. The storyline, characters, special effects, music, and action sequences are all top-notch, making it an unforgettable cinematic experience. Whether you're a longtime fan or new to the series, this movie will not disappoint!</s>\n",
            "\n",
            "++control ---------------------------------------------------\n",
            "<s> [INST] Write me a reccomendaation for Star Wars: Episode VI - Return of the Jedi directed by Richard Marquand? [/INST] If you're an avid fan of the Star Wars franchise and are looking for another thrilling adventure to add to your collection, then look no further than \"Star Wars: Episode VI - The Return of the Jedi\"! Directed by Richard Marquard, this movie is one of the most beloved in the entire saga. From the iconic lightsaber battles to the emotional reunions between characters we love, there's something for everyone in this epic tale of hope, joy, and triumph over evil.\n",
            "\n",
            "The latest installment in the classic trilogy takes us back to the galaxy far, far away with our favorite heroes and villains alike. We get to witness the return of Luke Skywalker as he finally unites with his father, Anakin Skywalker, who has become none other than Darth Vader himself! And let's not forget about the incredible journey that Leia, Han Solo, and their friends embark on through the stars. With breathtaking visual effects, heart-pumping action scenes, and some truly amazing performances from the cast, \"Return of the Jedi\" is a must-see film for any true Star Wars enthusiast. So grab your light sabers\n",
            "\n",
            "--control ---------------------------------------------------\n",
            "<s> [INST] Write me a reccomendaation for Star Wars: Episode VI - Return of the Jedi directed by Richard Marquand? [/INST] I can understand that it is not possible to provide an answer, as you are unable to understand my understanding. However, if I could clarify, I would suggest that I do not have access or ability to understand your request.</s>\n"
          ]
        }
      ],
      "source": [
        "answers = generate_with_vector(\n",
        "    movie_info_question,\n",
        "    movies_critic_vector,\n",
        "    (1.5, -2.2),\n",
        "    max_new_tokens=256,\n",
        "    repetition_penalty=1.3,\n",
        ")"
      ]
    },
    {
      "cell_type": "code",
      "source": [
        "model_id = \"mistralai/Mistral-7B-Instruct-v0.1\"\n",
        "tokenizer = AutoTokenizer.from_pretrained(model_id)\n",
        "\n",
        "model = AutoModelForCausalLM.from_pretrained(model_id, load_in_4bit=True)\n",
        "\n",
        "prompt = f\"<s> [INST] {movie_info_question} [/INST] \"\n",
        "inputs = tokenizer(prompt, return_tensors=\"pt\").to(0)\n",
        "outputs = model.generate(**inputs, max_new_tokens=1000)\n",
        "result = tokenizer.decode(outputs[0], skip_special_tokens=True)\n",
        "print(\"\\n\"+result[len(prompt)-3:])"
      ],
      "metadata": {
        "colab": {
          "base_uri": "https://localhost:8080/",
          "height": 288,
          "referenced_widgets": [
            "d03fa10b765e46f388b302eb26ae7152",
            "6964683cc6e54917a970b8f68242fe56",
            "fd6f916132be4d3d9833bdedc575a6a8",
            "84d200d3e03f4cdfb04fcd7fe8782682",
            "3e163c7ed4bc4b8fb1bb767a072e026b",
            "6769a9a902834be9bb432a4c2c935511",
            "30c1651b82d84b248be9877b322a7219",
            "b0fd9d9d56cd4f9096c228f0ee26accb",
            "63ba6538028e4990b9b30714c7dd8f71",
            "c62397b447744d45b4a1f162c83a1691",
            "80af6a380085461eb4a107965e311439"
          ]
        },
        "id": "gzNiHvI-Apea",
        "outputId": "e3ea2c54-4178-4d62-906c-474d3b62de8a"
      },
      "execution_count": null,
      "outputs": [
        {
          "output_type": "stream",
          "name": "stderr",
          "text": [
            "The `load_in_4bit` and `load_in_8bit` arguments are deprecated and will be removed in the future versions. Please, pass a `BitsAndBytesConfig` object in `quantization_config` argument instead.\n",
            "`low_cpu_mem_usage` was None, now set to True since model is quantized.\n"
          ]
        },
        {
          "output_type": "display_data",
          "data": {
            "text/plain": [
              "Loading checkpoint shards:   0%|          | 0/2 [00:00<?, ?it/s]"
            ],
            "application/vnd.jupyter.widget-view+json": {
              "version_major": 2,
              "version_minor": 0,
              "model_id": "d03fa10b765e46f388b302eb26ae7152"
            }
          },
          "metadata": {}
        },
        {
          "output_type": "stream",
          "name": "stderr",
          "text": [
            "Setting `pad_token_id` to `eos_token_id`:2 for open-end generation.\n"
          ]
        },
        {
          "output_type": "stream",
          "name": "stdout",
          "text": [
            "\n",
            "1. Watch the previous two films in the original trilogy, Star Wars: Episode IV - A New Hope and Star Wars: Episode V - The Empire Strikes Back, to fully understand the context and characters of the story.\n",
            "2. Pay attention to the themes of redemption, sacrifice, and the power of the Force.\n",
            "3. Watch the film multiple times to catch all the subtle details and references to previous films.\n",
            "4. Listen to the iconic score by John Williams and appreciate the use of music to enhance the emotional impact of the film.\n",
            "5. Take note of the impressive special effects and visuals, which were groundbreaking for their time.\n",
            "6. Enjoy the epic lightsaber battles, the emotional reunions, and the satisfying conclusion to the story arc.\n",
            "7. Consider the film's impact on popular culture and its influence on science fiction and fantasy genres.\n",
            "8. Reflect on the lessons learned from the film, such as the importance of friendship, the dangers of power, and the power of good to triumph over evil.\n"
          ]
        }
      ]
    },
    {
      "cell_type": "code",
      "execution_count": null,
      "metadata": {
        "id": "asNKgil1uxi8"
      },
      "outputs": [],
      "source": [
        "#del(model,model_name,tokenizer,url,url_2,url_3,url_4,url_5,titles_basics,names_of_crew,movies_ratings,movies_crew,movies_basics,scores,sentences)"
      ]
    }
  ],
  "metadata": {
    "colab": {
      "machine_shape": "hm",
      "provenance": [],
      "gpuType": "T4"
    },
    "kernelspec": {
      "display_name": "Python 3",
      "name": "python3"
    },
    "language_info": {
      "name": "python"
    },
    "accelerator": "GPU",
    "widgets": {
      "application/vnd.jupyter.widget-state+json": {
        "208d1c8508d44b95bbc17c5a0b8f454e": {
          "model_module": "@jupyter-widgets/controls",
          "model_name": "HBoxModel",
          "model_module_version": "1.5.0",
          "state": {
            "_dom_classes": [],
            "_model_module": "@jupyter-widgets/controls",
            "_model_module_version": "1.5.0",
            "_model_name": "HBoxModel",
            "_view_count": null,
            "_view_module": "@jupyter-widgets/controls",
            "_view_module_version": "1.5.0",
            "_view_name": "HBoxView",
            "box_style": "",
            "children": [
              "IPY_MODEL_00dd286cb4e4459299e6289ef04a147e",
              "IPY_MODEL_c2a91bcb97af43afbc88374b0a9b0474",
              "IPY_MODEL_57348f8542df43d8bcee2928f8f63f79"
            ],
            "layout": "IPY_MODEL_9df6438854364478941939b6522e229b"
          }
        },
        "00dd286cb4e4459299e6289ef04a147e": {
          "model_module": "@jupyter-widgets/controls",
          "model_name": "HTMLModel",
          "model_module_version": "1.5.0",
          "state": {
            "_dom_classes": [],
            "_model_module": "@jupyter-widgets/controls",
            "_model_module_version": "1.5.0",
            "_model_name": "HTMLModel",
            "_view_count": null,
            "_view_module": "@jupyter-widgets/controls",
            "_view_module_version": "1.5.0",
            "_view_name": "HTMLView",
            "description": "",
            "description_tooltip": null,
            "layout": "IPY_MODEL_6f8f5caee17c4800afee9f64fa45b86f",
            "placeholder": "​",
            "style": "IPY_MODEL_2f6b8881837149f48b90a5d6b50cafd5",
            "value": "Loading checkpoint shards: 100%"
          }
        },
        "c2a91bcb97af43afbc88374b0a9b0474": {
          "model_module": "@jupyter-widgets/controls",
          "model_name": "FloatProgressModel",
          "model_module_version": "1.5.0",
          "state": {
            "_dom_classes": [],
            "_model_module": "@jupyter-widgets/controls",
            "_model_module_version": "1.5.0",
            "_model_name": "FloatProgressModel",
            "_view_count": null,
            "_view_module": "@jupyter-widgets/controls",
            "_view_module_version": "1.5.0",
            "_view_name": "ProgressView",
            "bar_style": "success",
            "description": "",
            "description_tooltip": null,
            "layout": "IPY_MODEL_2844e7cbe00f4bae84f2125df48fb146",
            "max": 2,
            "min": 0,
            "orientation": "horizontal",
            "style": "IPY_MODEL_a0b024d9bdf54e109b2cfcd8e55ee87b",
            "value": 2
          }
        },
        "57348f8542df43d8bcee2928f8f63f79": {
          "model_module": "@jupyter-widgets/controls",
          "model_name": "HTMLModel",
          "model_module_version": "1.5.0",
          "state": {
            "_dom_classes": [],
            "_model_module": "@jupyter-widgets/controls",
            "_model_module_version": "1.5.0",
            "_model_name": "HTMLModel",
            "_view_count": null,
            "_view_module": "@jupyter-widgets/controls",
            "_view_module_version": "1.5.0",
            "_view_name": "HTMLView",
            "description": "",
            "description_tooltip": null,
            "layout": "IPY_MODEL_a6b0ecb235684d63b2525e2212289aa7",
            "placeholder": "​",
            "style": "IPY_MODEL_cd39a11c030940a0a023ea727b0edb6d",
            "value": " 2/2 [00:11&lt;00:00,  5.31s/it]"
          }
        },
        "9df6438854364478941939b6522e229b": {
          "model_module": "@jupyter-widgets/base",
          "model_name": "LayoutModel",
          "model_module_version": "1.2.0",
          "state": {
            "_model_module": "@jupyter-widgets/base",
            "_model_module_version": "1.2.0",
            "_model_name": "LayoutModel",
            "_view_count": null,
            "_view_module": "@jupyter-widgets/base",
            "_view_module_version": "1.2.0",
            "_view_name": "LayoutView",
            "align_content": null,
            "align_items": null,
            "align_self": null,
            "border": null,
            "bottom": null,
            "display": null,
            "flex": null,
            "flex_flow": null,
            "grid_area": null,
            "grid_auto_columns": null,
            "grid_auto_flow": null,
            "grid_auto_rows": null,
            "grid_column": null,
            "grid_gap": null,
            "grid_row": null,
            "grid_template_areas": null,
            "grid_template_columns": null,
            "grid_template_rows": null,
            "height": null,
            "justify_content": null,
            "justify_items": null,
            "left": null,
            "margin": null,
            "max_height": null,
            "max_width": null,
            "min_height": null,
            "min_width": null,
            "object_fit": null,
            "object_position": null,
            "order": null,
            "overflow": null,
            "overflow_x": null,
            "overflow_y": null,
            "padding": null,
            "right": null,
            "top": null,
            "visibility": null,
            "width": null
          }
        },
        "6f8f5caee17c4800afee9f64fa45b86f": {
          "model_module": "@jupyter-widgets/base",
          "model_name": "LayoutModel",
          "model_module_version": "1.2.0",
          "state": {
            "_model_module": "@jupyter-widgets/base",
            "_model_module_version": "1.2.0",
            "_model_name": "LayoutModel",
            "_view_count": null,
            "_view_module": "@jupyter-widgets/base",
            "_view_module_version": "1.2.0",
            "_view_name": "LayoutView",
            "align_content": null,
            "align_items": null,
            "align_self": null,
            "border": null,
            "bottom": null,
            "display": null,
            "flex": null,
            "flex_flow": null,
            "grid_area": null,
            "grid_auto_columns": null,
            "grid_auto_flow": null,
            "grid_auto_rows": null,
            "grid_column": null,
            "grid_gap": null,
            "grid_row": null,
            "grid_template_areas": null,
            "grid_template_columns": null,
            "grid_template_rows": null,
            "height": null,
            "justify_content": null,
            "justify_items": null,
            "left": null,
            "margin": null,
            "max_height": null,
            "max_width": null,
            "min_height": null,
            "min_width": null,
            "object_fit": null,
            "object_position": null,
            "order": null,
            "overflow": null,
            "overflow_x": null,
            "overflow_y": null,
            "padding": null,
            "right": null,
            "top": null,
            "visibility": null,
            "width": null
          }
        },
        "2f6b8881837149f48b90a5d6b50cafd5": {
          "model_module": "@jupyter-widgets/controls",
          "model_name": "DescriptionStyleModel",
          "model_module_version": "1.5.0",
          "state": {
            "_model_module": "@jupyter-widgets/controls",
            "_model_module_version": "1.5.0",
            "_model_name": "DescriptionStyleModel",
            "_view_count": null,
            "_view_module": "@jupyter-widgets/base",
            "_view_module_version": "1.2.0",
            "_view_name": "StyleView",
            "description_width": ""
          }
        },
        "2844e7cbe00f4bae84f2125df48fb146": {
          "model_module": "@jupyter-widgets/base",
          "model_name": "LayoutModel",
          "model_module_version": "1.2.0",
          "state": {
            "_model_module": "@jupyter-widgets/base",
            "_model_module_version": "1.2.0",
            "_model_name": "LayoutModel",
            "_view_count": null,
            "_view_module": "@jupyter-widgets/base",
            "_view_module_version": "1.2.0",
            "_view_name": "LayoutView",
            "align_content": null,
            "align_items": null,
            "align_self": null,
            "border": null,
            "bottom": null,
            "display": null,
            "flex": null,
            "flex_flow": null,
            "grid_area": null,
            "grid_auto_columns": null,
            "grid_auto_flow": null,
            "grid_auto_rows": null,
            "grid_column": null,
            "grid_gap": null,
            "grid_row": null,
            "grid_template_areas": null,
            "grid_template_columns": null,
            "grid_template_rows": null,
            "height": null,
            "justify_content": null,
            "justify_items": null,
            "left": null,
            "margin": null,
            "max_height": null,
            "max_width": null,
            "min_height": null,
            "min_width": null,
            "object_fit": null,
            "object_position": null,
            "order": null,
            "overflow": null,
            "overflow_x": null,
            "overflow_y": null,
            "padding": null,
            "right": null,
            "top": null,
            "visibility": null,
            "width": null
          }
        },
        "a0b024d9bdf54e109b2cfcd8e55ee87b": {
          "model_module": "@jupyter-widgets/controls",
          "model_name": "ProgressStyleModel",
          "model_module_version": "1.5.0",
          "state": {
            "_model_module": "@jupyter-widgets/controls",
            "_model_module_version": "1.5.0",
            "_model_name": "ProgressStyleModel",
            "_view_count": null,
            "_view_module": "@jupyter-widgets/base",
            "_view_module_version": "1.2.0",
            "_view_name": "StyleView",
            "bar_color": null,
            "description_width": ""
          }
        },
        "a6b0ecb235684d63b2525e2212289aa7": {
          "model_module": "@jupyter-widgets/base",
          "model_name": "LayoutModel",
          "model_module_version": "1.2.0",
          "state": {
            "_model_module": "@jupyter-widgets/base",
            "_model_module_version": "1.2.0",
            "_model_name": "LayoutModel",
            "_view_count": null,
            "_view_module": "@jupyter-widgets/base",
            "_view_module_version": "1.2.0",
            "_view_name": "LayoutView",
            "align_content": null,
            "align_items": null,
            "align_self": null,
            "border": null,
            "bottom": null,
            "display": null,
            "flex": null,
            "flex_flow": null,
            "grid_area": null,
            "grid_auto_columns": null,
            "grid_auto_flow": null,
            "grid_auto_rows": null,
            "grid_column": null,
            "grid_gap": null,
            "grid_row": null,
            "grid_template_areas": null,
            "grid_template_columns": null,
            "grid_template_rows": null,
            "height": null,
            "justify_content": null,
            "justify_items": null,
            "left": null,
            "margin": null,
            "max_height": null,
            "max_width": null,
            "min_height": null,
            "min_width": null,
            "object_fit": null,
            "object_position": null,
            "order": null,
            "overflow": null,
            "overflow_x": null,
            "overflow_y": null,
            "padding": null,
            "right": null,
            "top": null,
            "visibility": null,
            "width": null
          }
        },
        "cd39a11c030940a0a023ea727b0edb6d": {
          "model_module": "@jupyter-widgets/controls",
          "model_name": "DescriptionStyleModel",
          "model_module_version": "1.5.0",
          "state": {
            "_model_module": "@jupyter-widgets/controls",
            "_model_module_version": "1.5.0",
            "_model_name": "DescriptionStyleModel",
            "_view_count": null,
            "_view_module": "@jupyter-widgets/base",
            "_view_module_version": "1.2.0",
            "_view_name": "StyleView",
            "description_width": ""
          }
        },
        "d03fa10b765e46f388b302eb26ae7152": {
          "model_module": "@jupyter-widgets/controls",
          "model_name": "HBoxModel",
          "model_module_version": "1.5.0",
          "state": {
            "_dom_classes": [],
            "_model_module": "@jupyter-widgets/controls",
            "_model_module_version": "1.5.0",
            "_model_name": "HBoxModel",
            "_view_count": null,
            "_view_module": "@jupyter-widgets/controls",
            "_view_module_version": "1.5.0",
            "_view_name": "HBoxView",
            "box_style": "",
            "children": [
              "IPY_MODEL_6964683cc6e54917a970b8f68242fe56",
              "IPY_MODEL_fd6f916132be4d3d9833bdedc575a6a8",
              "IPY_MODEL_84d200d3e03f4cdfb04fcd7fe8782682"
            ],
            "layout": "IPY_MODEL_3e163c7ed4bc4b8fb1bb767a072e026b"
          }
        },
        "6964683cc6e54917a970b8f68242fe56": {
          "model_module": "@jupyter-widgets/controls",
          "model_name": "HTMLModel",
          "model_module_version": "1.5.0",
          "state": {
            "_dom_classes": [],
            "_model_module": "@jupyter-widgets/controls",
            "_model_module_version": "1.5.0",
            "_model_name": "HTMLModel",
            "_view_count": null,
            "_view_module": "@jupyter-widgets/controls",
            "_view_module_version": "1.5.0",
            "_view_name": "HTMLView",
            "description": "",
            "description_tooltip": null,
            "layout": "IPY_MODEL_6769a9a902834be9bb432a4c2c935511",
            "placeholder": "​",
            "style": "IPY_MODEL_30c1651b82d84b248be9877b322a7219",
            "value": "Loading checkpoint shards: 100%"
          }
        },
        "fd6f916132be4d3d9833bdedc575a6a8": {
          "model_module": "@jupyter-widgets/controls",
          "model_name": "FloatProgressModel",
          "model_module_version": "1.5.0",
          "state": {
            "_dom_classes": [],
            "_model_module": "@jupyter-widgets/controls",
            "_model_module_version": "1.5.0",
            "_model_name": "FloatProgressModel",
            "_view_count": null,
            "_view_module": "@jupyter-widgets/controls",
            "_view_module_version": "1.5.0",
            "_view_name": "ProgressView",
            "bar_style": "success",
            "description": "",
            "description_tooltip": null,
            "layout": "IPY_MODEL_b0fd9d9d56cd4f9096c228f0ee26accb",
            "max": 2,
            "min": 0,
            "orientation": "horizontal",
            "style": "IPY_MODEL_63ba6538028e4990b9b30714c7dd8f71",
            "value": 2
          }
        },
        "84d200d3e03f4cdfb04fcd7fe8782682": {
          "model_module": "@jupyter-widgets/controls",
          "model_name": "HTMLModel",
          "model_module_version": "1.5.0",
          "state": {
            "_dom_classes": [],
            "_model_module": "@jupyter-widgets/controls",
            "_model_module_version": "1.5.0",
            "_model_name": "HTMLModel",
            "_view_count": null,
            "_view_module": "@jupyter-widgets/controls",
            "_view_module_version": "1.5.0",
            "_view_name": "HTMLView",
            "description": "",
            "description_tooltip": null,
            "layout": "IPY_MODEL_c62397b447744d45b4a1f162c83a1691",
            "placeholder": "​",
            "style": "IPY_MODEL_80af6a380085461eb4a107965e311439",
            "value": " 2/2 [00:10&lt;00:00,  4.96s/it]"
          }
        },
        "3e163c7ed4bc4b8fb1bb767a072e026b": {
          "model_module": "@jupyter-widgets/base",
          "model_name": "LayoutModel",
          "model_module_version": "1.2.0",
          "state": {
            "_model_module": "@jupyter-widgets/base",
            "_model_module_version": "1.2.0",
            "_model_name": "LayoutModel",
            "_view_count": null,
            "_view_module": "@jupyter-widgets/base",
            "_view_module_version": "1.2.0",
            "_view_name": "LayoutView",
            "align_content": null,
            "align_items": null,
            "align_self": null,
            "border": null,
            "bottom": null,
            "display": null,
            "flex": null,
            "flex_flow": null,
            "grid_area": null,
            "grid_auto_columns": null,
            "grid_auto_flow": null,
            "grid_auto_rows": null,
            "grid_column": null,
            "grid_gap": null,
            "grid_row": null,
            "grid_template_areas": null,
            "grid_template_columns": null,
            "grid_template_rows": null,
            "height": null,
            "justify_content": null,
            "justify_items": null,
            "left": null,
            "margin": null,
            "max_height": null,
            "max_width": null,
            "min_height": null,
            "min_width": null,
            "object_fit": null,
            "object_position": null,
            "order": null,
            "overflow": null,
            "overflow_x": null,
            "overflow_y": null,
            "padding": null,
            "right": null,
            "top": null,
            "visibility": null,
            "width": null
          }
        },
        "6769a9a902834be9bb432a4c2c935511": {
          "model_module": "@jupyter-widgets/base",
          "model_name": "LayoutModel",
          "model_module_version": "1.2.0",
          "state": {
            "_model_module": "@jupyter-widgets/base",
            "_model_module_version": "1.2.0",
            "_model_name": "LayoutModel",
            "_view_count": null,
            "_view_module": "@jupyter-widgets/base",
            "_view_module_version": "1.2.0",
            "_view_name": "LayoutView",
            "align_content": null,
            "align_items": null,
            "align_self": null,
            "border": null,
            "bottom": null,
            "display": null,
            "flex": null,
            "flex_flow": null,
            "grid_area": null,
            "grid_auto_columns": null,
            "grid_auto_flow": null,
            "grid_auto_rows": null,
            "grid_column": null,
            "grid_gap": null,
            "grid_row": null,
            "grid_template_areas": null,
            "grid_template_columns": null,
            "grid_template_rows": null,
            "height": null,
            "justify_content": null,
            "justify_items": null,
            "left": null,
            "margin": null,
            "max_height": null,
            "max_width": null,
            "min_height": null,
            "min_width": null,
            "object_fit": null,
            "object_position": null,
            "order": null,
            "overflow": null,
            "overflow_x": null,
            "overflow_y": null,
            "padding": null,
            "right": null,
            "top": null,
            "visibility": null,
            "width": null
          }
        },
        "30c1651b82d84b248be9877b322a7219": {
          "model_module": "@jupyter-widgets/controls",
          "model_name": "DescriptionStyleModel",
          "model_module_version": "1.5.0",
          "state": {
            "_model_module": "@jupyter-widgets/controls",
            "_model_module_version": "1.5.0",
            "_model_name": "DescriptionStyleModel",
            "_view_count": null,
            "_view_module": "@jupyter-widgets/base",
            "_view_module_version": "1.2.0",
            "_view_name": "StyleView",
            "description_width": ""
          }
        },
        "b0fd9d9d56cd4f9096c228f0ee26accb": {
          "model_module": "@jupyter-widgets/base",
          "model_name": "LayoutModel",
          "model_module_version": "1.2.0",
          "state": {
            "_model_module": "@jupyter-widgets/base",
            "_model_module_version": "1.2.0",
            "_model_name": "LayoutModel",
            "_view_count": null,
            "_view_module": "@jupyter-widgets/base",
            "_view_module_version": "1.2.0",
            "_view_name": "LayoutView",
            "align_content": null,
            "align_items": null,
            "align_self": null,
            "border": null,
            "bottom": null,
            "display": null,
            "flex": null,
            "flex_flow": null,
            "grid_area": null,
            "grid_auto_columns": null,
            "grid_auto_flow": null,
            "grid_auto_rows": null,
            "grid_column": null,
            "grid_gap": null,
            "grid_row": null,
            "grid_template_areas": null,
            "grid_template_columns": null,
            "grid_template_rows": null,
            "height": null,
            "justify_content": null,
            "justify_items": null,
            "left": null,
            "margin": null,
            "max_height": null,
            "max_width": null,
            "min_height": null,
            "min_width": null,
            "object_fit": null,
            "object_position": null,
            "order": null,
            "overflow": null,
            "overflow_x": null,
            "overflow_y": null,
            "padding": null,
            "right": null,
            "top": null,
            "visibility": null,
            "width": null
          }
        },
        "63ba6538028e4990b9b30714c7dd8f71": {
          "model_module": "@jupyter-widgets/controls",
          "model_name": "ProgressStyleModel",
          "model_module_version": "1.5.0",
          "state": {
            "_model_module": "@jupyter-widgets/controls",
            "_model_module_version": "1.5.0",
            "_model_name": "ProgressStyleModel",
            "_view_count": null,
            "_view_module": "@jupyter-widgets/base",
            "_view_module_version": "1.2.0",
            "_view_name": "StyleView",
            "bar_color": null,
            "description_width": ""
          }
        },
        "c62397b447744d45b4a1f162c83a1691": {
          "model_module": "@jupyter-widgets/base",
          "model_name": "LayoutModel",
          "model_module_version": "1.2.0",
          "state": {
            "_model_module": "@jupyter-widgets/base",
            "_model_module_version": "1.2.0",
            "_model_name": "LayoutModel",
            "_view_count": null,
            "_view_module": "@jupyter-widgets/base",
            "_view_module_version": "1.2.0",
            "_view_name": "LayoutView",
            "align_content": null,
            "align_items": null,
            "align_self": null,
            "border": null,
            "bottom": null,
            "display": null,
            "flex": null,
            "flex_flow": null,
            "grid_area": null,
            "grid_auto_columns": null,
            "grid_auto_flow": null,
            "grid_auto_rows": null,
            "grid_column": null,
            "grid_gap": null,
            "grid_row": null,
            "grid_template_areas": null,
            "grid_template_columns": null,
            "grid_template_rows": null,
            "height": null,
            "justify_content": null,
            "justify_items": null,
            "left": null,
            "margin": null,
            "max_height": null,
            "max_width": null,
            "min_height": null,
            "min_width": null,
            "object_fit": null,
            "object_position": null,
            "order": null,
            "overflow": null,
            "overflow_x": null,
            "overflow_y": null,
            "padding": null,
            "right": null,
            "top": null,
            "visibility": null,
            "width": null
          }
        },
        "80af6a380085461eb4a107965e311439": {
          "model_module": "@jupyter-widgets/controls",
          "model_name": "DescriptionStyleModel",
          "model_module_version": "1.5.0",
          "state": {
            "_model_module": "@jupyter-widgets/controls",
            "_model_module_version": "1.5.0",
            "_model_name": "DescriptionStyleModel",
            "_view_count": null,
            "_view_module": "@jupyter-widgets/base",
            "_view_module_version": "1.2.0",
            "_view_name": "StyleView",
            "description_width": ""
          }
        }
      }
    }
  },
  "nbformat": 4,
  "nbformat_minor": 0
}