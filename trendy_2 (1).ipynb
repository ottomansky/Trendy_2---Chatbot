{
  "cells": [
    {
      "cell_type": "code",
      "source": [
        "# @title Click `Show code` in the code cell. { display-mode: \"form\" }\n",
        "query = \"I want to find a movie with less than 120 minutes made in last 4 years, sci-fi movie\" # @param {type:\"string\"}\n",
        "threshold = 0.4 # @param {type:\"slider\", min:0, max:1, step:0.1}"
      ],
      "metadata": {
        "id": "yKzHNxvAHLUR"
      },
      "execution_count": 1,
      "outputs": []
    },
    {
      "cell_type": "code",
      "execution_count": 2,
      "metadata": {
        "id": "7RTMLtdvEiaM"
      },
      "outputs": [],
      "source": [
        "%%capture\n",
        "!pip install -U sentence-transformers\n",
        "!pip install repeng\n",
        "!pip install -q -U bitsandbytes\n",
        "!pip install -q -U git+https://github.com/huggingface/transformers.git\n",
        "!pip install -q -U git+https://github.com/huggingface/peft.git\n",
        "!pip install -q -U git+https://github.com/huggingface/accelerate.git\n"
      ]
    },
    {
      "cell_type": "markdown",
      "metadata": {
        "id": "pX7eHfN8m7Kx"
      },
      "source": [
        "IMPORT LIBRARIES"
      ]
    },
    {
      "cell_type": "code",
      "execution_count": 3,
      "metadata": {
        "id": "DIy7MqY0mejW"
      },
      "outputs": [],
      "source": [
        "%timeit\n",
        "import pandas as pd\n",
        "import requests\n",
        "import gzip\n",
        "import shutil\n",
        "import os\n",
        "from google.colab import drive\n",
        "import torch\n",
        "import warnings\n",
        "import random\n",
        "import json\n",
        "import torch\n",
        "import re\n",
        "import numpy\n",
        "import bitsandbytes\n",
        "import accelerate\n",
        "from transformers import AutoModelForCausalLM, AutoTokenizer\n",
        "from sentence_transformers import SentenceTransformer, util\n",
        "from repeng import ControlVector, ControlModel, DatasetEntry"
      ]
    },
    {
      "cell_type": "markdown",
      "metadata": {
        "id": "xSTu8Y4cjikS"
      },
      "source": [
        "# Data loading\n",
        "1.   Downloads, Extracts, and Preprocesses IMDb Movie Data\n",
        "2.   Fetches compressed movie datasets from IMDb's repositories.\n",
        "3.   Unzips the downloaded files.\n",
        "4.  Loads the data into Pandas dataframes.\n",
        "5.  Combines the three dataframes to include movie ratings and movie crew.\n",
        "\n",
        "\n",
        "\n",
        "\n",
        "\n",
        "\n",
        "\n",
        "\n",
        "\n"
      ]
    },
    {
      "cell_type": "code",
      "execution_count": 4,
      "metadata": {
        "id": "NAgqYjWvm__z",
        "colab": {
          "base_uri": "https://localhost:8080/"
        },
        "outputId": "bf522460-abc4-4350-edd7-ea95449ffff5"
      },
      "outputs": [
        {
          "output_type": "stream",
          "name": "stderr",
          "text": [
            "<ipython-input-4-01299b050f38>:29: DtypeWarning: Columns (4) have mixed types. Specify dtype option on import or set low_memory=False.\n",
            "  movies_basics = pd.read_csv('title.basics.tsv', delimiter='\\t')\n"
          ]
        }
      ],
      "source": [
        "%timeit\n",
        "# Function to download and extract the files\n",
        "def download_and_extract(url, file_name):\n",
        "    response = requests.get(url, stream=True)\n",
        "    if response.status_code == 200:\n",
        "        with open(file_name, 'wb') as file:\n",
        "            file.write(response.raw.read())\n",
        "        # Extract the .gz file\n",
        "        with gzip.open(file_name, 'rb') as f_in:\n",
        "            with open(file_name[:-3], 'wb') as f_out:\n",
        "                shutil.copyfileobj(f_in, f_out)\n",
        "        os.remove(file_name)  # Remove the .gz file after extraction\n",
        "\n",
        "# URLs for download\n",
        "url = 'https://datasets.imdbws.com/title.basics.tsv.gz'\n",
        "url_2 = 'https://datasets.imdbws.com/title.ratings.tsv.gz'\n",
        "url_3 = 'https://datasets.imdbws.com/title.crew.tsv.gz'\n",
        "url_4 = 'https://datasets.imdbws.com/name.basics.tsv.gz'\n",
        "url_5 = 'https://datasets.imdbws.com/title.akas.tsv.gz'\n",
        "\n",
        "# Download and extract all data\n",
        "download_and_extract(url, 'title.basics.tsv.gz')\n",
        "download_and_extract(url_2, 'title.ratings.tsv.gz')\n",
        "download_and_extract(url_3, 'title.crew.tsv.gz')\n",
        "download_and_extract(url_4, 'name.basics.tsv.gz')\n",
        "download_and_extract(url_5, 'title.akas.tsv.gz')\n",
        "\n",
        "# All data goes to dataframes\n",
        "movies_basics = pd.read_csv('title.basics.tsv', delimiter='\\t')\n",
        "movies_ratings = pd.read_csv('title.ratings.tsv', delimiter='\\t')\n",
        "movies_crew = pd.read_csv('title.crew.tsv', delimiter='\\t')\n",
        "names_of_crew = pd.read_csv('name.basics.tsv', delimiter='\\t')\n",
        "titles_basics = pd.read_csv('title.akas.tsv', delimiter='\\t')\n",
        "\n",
        "# Dropping some columns that I dont need from titles_basics and renaming\n",
        "titles_basics = titles_basics.drop(columns=['ordering', 'region', 'isOriginalTitle'])\n",
        "titles_basics = titles_basics.rename(columns={'titleId': 'tconst'})\n",
        "\n",
        "#movies_crew filtering\n",
        "names_of_crew = names_of_crew[['nconst', 'primaryName']]\n",
        "movies_crew = movies_crew[['tconst', 'directors']]\n",
        "movies_crew = movies_crew.rename(columns={'directors': 'nconst'})\n",
        "\n",
        "# title type filtering\n",
        "\n",
        "\n",
        "#Merging all dataframes into one movies_basics\n",
        "movies_crew = movies_crew.merge(names_of_crew, on='nconst', how='left')\n",
        "movies_basics = movies_basics.merge(titles_basics, on='tconst', how='left')\n",
        "movies_basics = movies_basics.merge(movies_ratings, on='tconst', how='left')\n",
        "movies_basics = movies_basics.merge(movies_crew, on='tconst', how='left')\n",
        "\n",
        "# Removing rows where I analyzed high ammount of missing values\n",
        "columns_to_keep = [\n",
        "    'primaryTitle', 'genres', 'titleType', 'isAdult', 'startYear',\n",
        "    'averageRating', 'numVotes', 'primaryName',\n",
        "    'language'\n",
        "]\n",
        "# Drop columns that are not in the list of columns to keep + numVotes above 200 so I dont have any Indian telenovels reccomended\n",
        "movies_basics = movies_basics[columns_to_keep]\n",
        "movies_basics = movies_basics[movies_basics['numVotes'] >= 200]\n",
        "\n",
        "# Dropping missing values + different types\n",
        "movies_basics = movies_basics[movies_basics['titleType'].isin([\"short\", \"movie\", \"tvMovie\", \"tvSeries\"])]\n",
        "movies_basics.replace(r'\\\\N', numpy.nan, regex=True, inplace=True)\n",
        "movies_basics.dropna(inplace=True)\n",
        "\n",
        "\n",
        "# Sorting and selecting top 50k movies, since whole dataset might be around 1mil rows and its too high, will experiment with this number\n",
        "movies_basics = movies_basics.sort_values(by='averageRating', ascending=False)\n",
        "movies_basics = movies_basics.head(50000)\n",
        "\n",
        "\n"
      ]
    },
    {
      "cell_type": "markdown",
      "metadata": {
        "id": "2JCOcZRpsW2q"
      },
      "source": [
        "# Converting information about movies to sentences\n",
        "Here I convert information about movies to simple sentences"
      ]
    },
    {
      "cell_type": "code",
      "execution_count": 5,
      "metadata": {
        "id": "jpJ6g4vL7mRz"
      },
      "outputs": [],
      "source": [
        "%timeit\n",
        "def create_description(row):\n",
        "    title = row['primaryTitle']\n",
        "    genres = row['genres']\n",
        "    director = row['primaryName']\n",
        "    film_type = row['titleType']\n",
        "    release_year = row['startYear']\n",
        "    is_adult = row['isAdult']\n",
        "    average_rating = row['averageRating']\n",
        "    num_votes = row['numVotes']\n",
        "\n",
        "    # Start with the title and basic info\n",
        "    description = f\"The {film_type} '{title}', released in {release_year}, is a {genres} feature directed by {director}. \"\n",
        "\n",
        "    # Add the adult rating info if applicable\n",
        "    if is_adult == 'True':\n",
        "        description += \"It is intended for mature audiences and \"\n",
        "\n",
        "    # Finish with the IMDb rating info\n",
        "    description += f\"has an average IMDb rating of {average_rating}, based on {num_votes} votes.\"\n",
        "\n",
        "    return description\n",
        "\n",
        "# Apply the function to the movies DataFrame\n",
        "movies_basics['description'] = movies_basics.apply(create_description, axis=1)\n",
        "sentences = movies_basics['description'].tolist()\n"
      ]
    },
    {
      "cell_type": "markdown",
      "metadata": {
        "id": "vlkxJvwmBftp"
      },
      "source": [
        "# Sentence model test"
      ]
    },
    {
      "cell_type": "code",
      "execution_count": 6,
      "metadata": {
        "id": "P8XWAgMtBfOO",
        "colab": {
          "base_uri": "https://localhost:8080/"
        },
        "outputId": "b7af2943-561a-4a68-efd6-014a378a6250"
      },
      "outputs": [
        {
          "output_type": "stream",
          "name": "stdout",
          "text": [
            "Score: 0.6027109026908875\n",
            "Text: The short 'Temporal', released in 2022, is a Drama,Sci-Fi,Short feature directed by Akash Sunethkumara. has an average IMDb rating of 8.7, based on 233.0 votes.\n",
            "<class 'str'>\n",
            "<class 'str'>\n",
            "Write me a reccomendaation for Temporal directed by Akash Sunethkumara?\n"
          ]
        }
      ],
      "source": [
        "%timeit\n",
        "# SETTING UP Sentence model\n",
        "model = SentenceTransformer('sentence-transformers/all-MiniLM-L6-v2')\n",
        "\n",
        "embedding_query= model.encode(query, convert_to_tensor=True)\n",
        "\n",
        "scores = []\n",
        "for sentence in sentences:\n",
        "    embedding_sentence = model.encode(sentence, convert_to_tensor=True)\n",
        "    scores.append(util.pytorch_cos_sim(embedding_query, embedding_sentence))\n",
        "flat_tensor = torch.cat(scores, dim=0).flatten()\n",
        "index_of_max = torch.argmax(flat_tensor)\n",
        "\n",
        "best_score = scores[index_of_max].item()\n",
        "best_context = sentences[index_of_max]\n",
        "\n",
        "if best_score > threshold:\n",
        "    output_sentence = f\"Score: {best_score}\\nText: {best_context}\"\n",
        "else:\n",
        "    output_sentence = \"No suitable context found\"\n",
        "\n",
        "print(output_sentence)\n",
        "print(type(output_sentence))\n",
        "print(type(\"output sentence\"))\n",
        "del(model)\n",
        "\n",
        "movie_name_match = re.search(r\"'(.*?)'\", output_sentence)\n",
        "movie_name = movie_name_match.group(1) if movie_name_match else \"\"\n",
        "\n",
        "# Extract director's name\n",
        "director_name_match = re.search(r\"directed by (.*?)\\.\", output_sentence)\n",
        "director_name = director_name_match.group(1) if director_name_match else \"\"\n",
        "\n",
        "# Create a new variable with the extracted information\n",
        "movie_info = f\"{movie_name} directed by {director_name}\"\n",
        "movie_info_question = \"Write me a reccomendaation for \" + movie_info + \"?\"\n",
        "# Print the new variable\n",
        "print(movie_info_question)\n"
      ]
    },
    {
      "cell_type": "code",
      "source": [
        "print(scores[:5])"
      ],
      "metadata": {
        "colab": {
          "base_uri": "https://localhost:8080/"
        },
        "id": "S7kH9eRCtJJV",
        "outputId": "4df9891e-0272-41aa-d7ad-9077cc0a8b2b"
      },
      "execution_count": 7,
      "outputs": [
        {
          "output_type": "stream",
          "name": "stdout",
          "text": [
            "[tensor([[0.2652]], device='cuda:0'), tensor([[0.2676]], device='cuda:0'), tensor([[0.3445]], device='cuda:0'), tensor([[0.2734]], device='cuda:0'), tensor([[0.2697]], device='cuda:0')]\n"
          ]
        }
      ]
    },
    {
      "cell_type": "markdown",
      "metadata": {
        "id": "kLftTFyMeiW9"
      },
      "source": [
        "# Deleting Unnecessary varibles"
      ]
    },
    {
      "cell_type": "markdown",
      "metadata": {
        "id": "T_Z2b8uzBOwH"
      },
      "source": [
        "# Model 2 set up"
      ]
    },
    {
      "cell_type": "code",
      "execution_count": 8,
      "metadata": {
        "id": "e6fas7TyBN83",
        "colab": {
          "base_uri": "https://localhost:8080/",
          "height": 105,
          "referenced_widgets": [
            "7052a287dc6640d8b391356af6f0a052",
            "fc1e8a5e3ee74bc998738621b15ae520",
            "e07b93a4c57e4934aaa0ac59576a4cd6",
            "4f86b4de9a4d40e7990201c80fb8d087",
            "d5c530793e304fb795a4527062f8e1f7",
            "b1e90277625743fa9461f103a1aae69e",
            "057407e5aed5466ba6851d4253e4d6b8",
            "6a57c0bedcdf4d8c9e69c83ffebce75f",
            "402120449dbf4f0cb2454f65e87b467c",
            "98bd5157bc2e48afb6769d746ca0fd7f",
            "d6f1c07638dd465cb3c245f68c69ae5f"
          ]
        },
        "outputId": "6e953fd8-a2ea-4cf7-ac4e-d91511e9e68c"
      },
      "outputs": [
        {
          "output_type": "stream",
          "name": "stderr",
          "text": [
            "The `load_in_4bit` and `load_in_8bit` arguments are deprecated and will be removed in the future versions. Please, pass a `BitsAndBytesConfig` object in `quantization_config` argument instead.\n",
            "`low_cpu_mem_usage` was None, now set to True since model is quantized.\n"
          ]
        },
        {
          "output_type": "display_data",
          "data": {
            "text/plain": [
              "Loading checkpoint shards:   0%|          | 0/2 [00:00<?, ?it/s]"
            ],
            "application/vnd.jupyter.widget-view+json": {
              "version_major": 2,
              "version_minor": 0,
              "model_id": "7052a287dc6640d8b391356af6f0a052"
            }
          },
          "metadata": {}
        }
      ],
      "source": [
        "model_name = \"mistralai/Mistral-7B-Instruct-v0.1\"\n",
        "\n",
        "tokenizer = AutoTokenizer.from_pretrained(model_name)\n",
        "tokenizer.pad_token_id = 0\n",
        "\n",
        "model = AutoModelForCausalLM.from_pretrained(model_name, load_in_4bit=True)\n",
        "model = ControlModel(model, list(range(-5, -18, -1)))\n",
        "\n",
        "user_tag, asst_tag = \"[INST]\", \"[/INST]\"\n",
        "\n",
        "with open(\"/content/drive/MyDrive/mixtral/data/all_truncated_outputs.json\") as f:\n",
        "    output_suffixes = json.load(f)\n",
        "truncated_output_suffixes = [\n",
        "    tokenizer.convert_tokens_to_string(tokens[:i])\n",
        "    for tokens in (tokenizer.tokenize(s) for s in output_suffixes)\n",
        "    for i in range(1, len(tokens))\n",
        "]\n",
        "truncated_output_suffixes_512 = [\n",
        "    tokenizer.convert_tokens_to_string(tokens[:i])\n",
        "    for tokens in (tokenizer.tokenize(s) for s in output_suffixes[:512])\n",
        "    for i in range(1, len(tokens))\n",
        "]\n",
        "\n",
        "with open(\"/content/drive/MyDrive/mixtral/data/true_facts.json\") as f:\n",
        "    fact_suffixes = json.load(f)\n",
        "truncated_fact_suffixes = [\n",
        "    tokenizer.convert_tokens_to_string(tokens[:i])\n",
        "    for tokens in (tokenizer.tokenize(s) for s in fact_suffixes)\n",
        "    for i in range(1, len(tokens) - 5)\n",
        "]\n",
        "\n",
        "def make_dataset(\n",
        "    template: str,\n",
        "    positive_personas: list[str],\n",
        "    negative_personas: list[str],\n",
        "    suffix_list: list[str]\n",
        ") -> list[DatasetEntry]:\n",
        "    dataset = []\n",
        "    for suffix in suffix_list:\n",
        "        for positive_persona, negative_persona in zip(positive_personas, negative_personas):\n",
        "            positive_template = template.format(persona=positive_persona)\n",
        "            negative_template = template.format(persona=negative_persona)\n",
        "            dataset.append(\n",
        "                DatasetEntry(\n",
        "                    positive=f\"{user_tag} {positive_template} {asst_tag} {suffix}\",\n",
        "                    negative=f\"{user_tag} {negative_template} {asst_tag} {suffix}\",\n",
        "                )\n",
        "            )\n",
        "    return dataset\n",
        "\n",
        "\n",
        "def generate_with_vector(\n",
        "    input: str,\n",
        "    vector: ControlVector,\n",
        "    coeffs: tuple[float, float],\n",
        "    max_new_tokens: int = 128,\n",
        "    repetition_penalty: float = 1.5,\n",
        "    show_baseline: bool = True,\n",
        "):\n",
        "    positive_coeff, negative_coeff = coeffs\n",
        "    assert positive_coeff > 0\n",
        "    assert negative_coeff < 0\n",
        "\n",
        "    if user_tag not in input:\n",
        "        input = f\"{user_tag} {input.strip()} {asst_tag}\"\n",
        "    input_ids = tokenizer(input, return_tensors=\"pt\").to(model.device)\n",
        "    settings = {\n",
        "        \"pad_token_id\": tokenizer.eos_token_id, # silence warning\n",
        "        \"do_sample\": False, # temperature=0\n",
        "        \"max_new_tokens\": max_new_tokens,\n",
        "        \"repetition_penalty\": repetition_penalty,\n",
        "    }\n",
        "\n",
        "    if show_baseline:\n",
        "        print(\"==baseline ---------------------------------------------------\")\n",
        "        model.reset()\n",
        "        print(tokenizer.decode(model.generate(**input_ids, **settings).squeeze()).strip())\n",
        "\n",
        "    print(\"\\n++control ---------------------------------------------------\")\n",
        "    model.set_control(vector, positive_coeff)\n",
        "    print(tokenizer.decode(model.generate(**input_ids, **settings).squeeze()).strip())\n",
        "\n",
        "    print(\"\\n--control ---------------------------------------------------\")\n",
        "    model.set_control(vector, negative_coeff)\n",
        "    print(tokenizer.decode(model.generate(**input_ids, **settings).squeeze()).strip())\n",
        "    model.reset()\n"
      ]
    },
    {
      "cell_type": "code",
      "source": [
        "movie_critic = make_dataset(\n",
        "    \"Act as if you're a {persona} movie critic recommending movies to your audience.\",\n",
        "    [\"enthusiastic movie crtitic, who loves cinematography and highlighting the strengths and merits of movies\"],\n",
        "    [\"highly critical, focusing on the flaws and shortcomings of movies, searching problems on everything\"],\n",
        "    truncated_output_suffixes,\n",
        ")\n",
        "\n"
      ],
      "metadata": {
        "id": "DQBjCDZF1U27"
      },
      "execution_count": 9,
      "outputs": []
    },
    {
      "cell_type": "code",
      "source": [
        "model.reset()\n",
        "movies_critic_vector = ControlVector.train(model, tokenizer, movie_critic)\n"
      ],
      "metadata": {
        "id": "P9Ix3j1DQ6Yn",
        "colab": {
          "base_uri": "https://localhost:8080/"
        },
        "outputId": "1c743177-6ca4-4a7f-a340-906a8ac7f153"
      },
      "execution_count": 10,
      "outputs": [
        {
          "output_type": "stream",
          "name": "stderr",
          "text": [
            "\r  0%|          | 0/78 [00:00<?, ?it/s]/usr/local/lib/python3.10/dist-packages/bitsandbytes/nn/modules.py:391: UserWarning: Input type into Linear4bit is torch.float16, but bnb_4bit_compute_dtype=torch.float32 (default). This will lead to slow inference or training speed.\n",
            "  warnings.warn('Input type into Linear4bit is torch.float16, but bnb_4bit_compute_dtype=torch.float32 (default). This will lead to slow inference or training speed.')\n",
            "100%|██████████| 78/78 [09:26<00:00,  7.27s/it]\n",
            "100%|██████████| 31/31 [00:29<00:00,  1.04it/s]\n"
          ]
        }
      ]
    },
    {
      "cell_type": "code",
      "execution_count": 11,
      "metadata": {
        "id": "zC8l4Bb-yIFk",
        "colab": {
          "base_uri": "https://localhost:8080/"
        },
        "outputId": "e59ea621-2652-4f02-da69-fa66c6a2e7d5"
      },
      "outputs": [
        {
          "output_type": "stream",
          "name": "stdout",
          "text": [
            "==baseline ---------------------------------------------------\n",
            "<s> [INST] Write me a reccomendaation for Temporal directed by Akash Sunethkumara? [/INST] I would highly recommend \"Temporal\" directed by Akash Sunethkumara. The film is an excellent example of the director's skill in creating visually stunning and thought-provoking works that explore complex themes with depth and nuance.\n",
            "\n",
            "The story follows two young men, one from the future and one from the past, who are brought together through a mysterious device called the Time Loop. As they navigate their way through each other's lives, they begin to question what it means to be human and whether time truly has any meaning at all.\n",
            "\n",
            "Akash Sunethkumara's direction brings this intricate narrative to life with breathtaking visual effects and innovative use of technology. He expertly weaves together elements of science fiction, romance, and philosophy into a cohesive whole that will leave you both entertained and inspired.\n",
            "\n",
            "Overall, \"Temporal\" is not just a movie - it's an experience. It challenges your assumptions about reality and invites you to think deeply about the nature of existence itself. If you enjoy mind-bending stories with beautiful cinematography and thoughtful commentary on contemporary issues, then don't miss out on this incredible piece of work\n",
            "\n",
            "++control ---------------------------------------------------\n",
            "<s> [INST] Write me a reccomendaation for Temporal directed by Akash Sunethkumara? [/INST] If you're looking for an absolute must-see film, then \"Temporal\" is the movie to watch! This thrilling and heartwarming story takes us on a journey through time with our protagonist, who embarks on a quest to save his loved ones from their past. The beautiful cinematography, stunning visuals, and incredible performances are nothing short of breathtaking.\n",
            "\n",
            "Akash Sunekhumaar has truly outdone himself in this magical tale that will leave you on the edge of your seat. From start to finish, every moment of \"Temporal\" is filled with pure joy and excitement. You won't be able to stop talking about it after you see it! So grab some friends or family members, sit down at the theater, and get ready for one unforgettable ride!</s>\n",
            "\n",
            "--control ---------------------------------------------------\n",
            "<s> [INST] Write me a reccomendaation for Temporal directed by Akash Sunethkumara? [/INST] I apologize, but it is not possible to provide an evaluation or recommendation based on the information provided. It would be more helpful if you could clarify what type of response can understand</s>\n"
          ]
        }
      ],
      "source": [
        "answers = generate_with_vector(\n",
        "    movie_info_question,\n",
        "    movies_critic_vector,\n",
        "    (1.5, -2.2),\n",
        "    max_new_tokens=1000,\n",
        "    repetition_penalty=1.3,\n",
        ")"
      ]
    },
    {
      "cell_type": "code",
      "source": [
        "model_id = \"mistralai/Mistral-7B-Instruct-v0.1\"\n",
        "tokenizer = AutoTokenizer.from_pretrained(model_id)\n",
        "\n",
        "model = AutoModelForCausalLM.from_pretrained(model_id, load_in_4bit=True)\n",
        "\n",
        "prompt = f\"<s> [INST] {movie_info_question} [/INST] \"\n",
        "inputs = tokenizer(prompt, return_tensors=\"pt\").to(0)\n",
        "outputs = model.generate(**inputs, max_new_tokens=1000)\n",
        "result = tokenizer.decode(outputs[0], skip_special_tokens=True)\n",
        "print(\"\\n\"+result[len(prompt)-3:])"
      ],
      "metadata": {
        "colab": {
          "base_uri": "https://localhost:8080/",
          "height": 124,
          "referenced_widgets": [
            "efe06babc4f748fbbfa2729fd2449448",
            "8c73349ccdb240acaa96dcce87d0c1c4",
            "7a48163e65d941cd8a9ff4055f2ecb29",
            "b37f35b2bf024fedb9b84b61026614ce",
            "d353b2e248a5457996c0b72dce54fa5a",
            "a388ab29d3f747d4854a86b1f4331ccd",
            "02fa2229ed2c4245a229203c3550771e",
            "28d7a07ec85f4e9dadd1c9e324d53df6",
            "afe029992de645f880e5d3e09bc34fd5",
            "0e85daf4521342f18875bcde54815ede",
            "871a8b3998754b33b77407eeb5134346"
          ]
        },
        "id": "gzNiHvI-Apea",
        "outputId": "299d4ebf-4c76-4da2-c630-c19ac9cf8b01"
      },
      "execution_count": null,
      "outputs": [
        {
          "output_type": "stream",
          "name": "stderr",
          "text": [
            "The `load_in_4bit` and `load_in_8bit` arguments are deprecated and will be removed in the future versions. Please, pass a `BitsAndBytesConfig` object in `quantization_config` argument instead.\n",
            "`low_cpu_mem_usage` was None, now set to True since model is quantized.\n"
          ]
        },
        {
          "output_type": "display_data",
          "data": {
            "text/plain": [
              "Loading checkpoint shards:   0%|          | 0/2 [00:00<?, ?it/s]"
            ],
            "application/vnd.jupyter.widget-view+json": {
              "version_major": 2,
              "version_minor": 0,
              "model_id": "efe06babc4f748fbbfa2729fd2449448"
            }
          },
          "metadata": {}
        },
        {
          "output_type": "stream",
          "name": "stderr",
          "text": [
            "Setting `pad_token_id` to `eos_token_id`:2 for open-end generation.\n"
          ]
        }
      ]
    },
    {
      "cell_type": "code",
      "execution_count": null,
      "metadata": {
        "id": "asNKgil1uxi8"
      },
      "outputs": [],
      "source": [
        "#del(model,model_name,tokenizer,url,url_2,url_3,url_4,url_5,titles_basics,names_of_crew,movies_ratings,movies_crew,movies_basics,scores,sentences)"
      ]
    }
  ],
  "metadata": {
    "colab": {
      "machine_shape": "hm",
      "provenance": [],
      "gpuType": "T4"
    },
    "kernelspec": {
      "display_name": "Python 3",
      "name": "python3"
    },
    "language_info": {
      "name": "python"
    },
    "accelerator": "GPU",
    "widgets": {
      "application/vnd.jupyter.widget-state+json": {
        "7052a287dc6640d8b391356af6f0a052": {
          "model_module": "@jupyter-widgets/controls",
          "model_name": "HBoxModel",
          "model_module_version": "1.5.0",
          "state": {
            "_dom_classes": [],
            "_model_module": "@jupyter-widgets/controls",
            "_model_module_version": "1.5.0",
            "_model_name": "HBoxModel",
            "_view_count": null,
            "_view_module": "@jupyter-widgets/controls",
            "_view_module_version": "1.5.0",
            "_view_name": "HBoxView",
            "box_style": "",
            "children": [
              "IPY_MODEL_fc1e8a5e3ee74bc998738621b15ae520",
              "IPY_MODEL_e07b93a4c57e4934aaa0ac59576a4cd6",
              "IPY_MODEL_4f86b4de9a4d40e7990201c80fb8d087"
            ],
            "layout": "IPY_MODEL_d5c530793e304fb795a4527062f8e1f7"
          }
        },
        "fc1e8a5e3ee74bc998738621b15ae520": {
          "model_module": "@jupyter-widgets/controls",
          "model_name": "HTMLModel",
          "model_module_version": "1.5.0",
          "state": {
            "_dom_classes": [],
            "_model_module": "@jupyter-widgets/controls",
            "_model_module_version": "1.5.0",
            "_model_name": "HTMLModel",
            "_view_count": null,
            "_view_module": "@jupyter-widgets/controls",
            "_view_module_version": "1.5.0",
            "_view_name": "HTMLView",
            "description": "",
            "description_tooltip": null,
            "layout": "IPY_MODEL_b1e90277625743fa9461f103a1aae69e",
            "placeholder": "​",
            "style": "IPY_MODEL_057407e5aed5466ba6851d4253e4d6b8",
            "value": "Loading checkpoint shards: 100%"
          }
        },
        "e07b93a4c57e4934aaa0ac59576a4cd6": {
          "model_module": "@jupyter-widgets/controls",
          "model_name": "FloatProgressModel",
          "model_module_version": "1.5.0",
          "state": {
            "_dom_classes": [],
            "_model_module": "@jupyter-widgets/controls",
            "_model_module_version": "1.5.0",
            "_model_name": "FloatProgressModel",
            "_view_count": null,
            "_view_module": "@jupyter-widgets/controls",
            "_view_module_version": "1.5.0",
            "_view_name": "ProgressView",
            "bar_style": "success",
            "description": "",
            "description_tooltip": null,
            "layout": "IPY_MODEL_6a57c0bedcdf4d8c9e69c83ffebce75f",
            "max": 2,
            "min": 0,
            "orientation": "horizontal",
            "style": "IPY_MODEL_402120449dbf4f0cb2454f65e87b467c",
            "value": 2
          }
        },
        "4f86b4de9a4d40e7990201c80fb8d087": {
          "model_module": "@jupyter-widgets/controls",
          "model_name": "HTMLModel",
          "model_module_version": "1.5.0",
          "state": {
            "_dom_classes": [],
            "_model_module": "@jupyter-widgets/controls",
            "_model_module_version": "1.5.0",
            "_model_name": "HTMLModel",
            "_view_count": null,
            "_view_module": "@jupyter-widgets/controls",
            "_view_module_version": "1.5.0",
            "_view_name": "HTMLView",
            "description": "",
            "description_tooltip": null,
            "layout": "IPY_MODEL_98bd5157bc2e48afb6769d746ca0fd7f",
            "placeholder": "​",
            "style": "IPY_MODEL_d6f1c07638dd465cb3c245f68c69ae5f",
            "value": " 2/2 [00:19&lt;00:00,  8.47s/it]"
          }
        },
        "d5c530793e304fb795a4527062f8e1f7": {
          "model_module": "@jupyter-widgets/base",
          "model_name": "LayoutModel",
          "model_module_version": "1.2.0",
          "state": {
            "_model_module": "@jupyter-widgets/base",
            "_model_module_version": "1.2.0",
            "_model_name": "LayoutModel",
            "_view_count": null,
            "_view_module": "@jupyter-widgets/base",
            "_view_module_version": "1.2.0",
            "_view_name": "LayoutView",
            "align_content": null,
            "align_items": null,
            "align_self": null,
            "border": null,
            "bottom": null,
            "display": null,
            "flex": null,
            "flex_flow": null,
            "grid_area": null,
            "grid_auto_columns": null,
            "grid_auto_flow": null,
            "grid_auto_rows": null,
            "grid_column": null,
            "grid_gap": null,
            "grid_row": null,
            "grid_template_areas": null,
            "grid_template_columns": null,
            "grid_template_rows": null,
            "height": null,
            "justify_content": null,
            "justify_items": null,
            "left": null,
            "margin": null,
            "max_height": null,
            "max_width": null,
            "min_height": null,
            "min_width": null,
            "object_fit": null,
            "object_position": null,
            "order": null,
            "overflow": null,
            "overflow_x": null,
            "overflow_y": null,
            "padding": null,
            "right": null,
            "top": null,
            "visibility": null,
            "width": null
          }
        },
        "b1e90277625743fa9461f103a1aae69e": {
          "model_module": "@jupyter-widgets/base",
          "model_name": "LayoutModel",
          "model_module_version": "1.2.0",
          "state": {
            "_model_module": "@jupyter-widgets/base",
            "_model_module_version": "1.2.0",
            "_model_name": "LayoutModel",
            "_view_count": null,
            "_view_module": "@jupyter-widgets/base",
            "_view_module_version": "1.2.0",
            "_view_name": "LayoutView",
            "align_content": null,
            "align_items": null,
            "align_self": null,
            "border": null,
            "bottom": null,
            "display": null,
            "flex": null,
            "flex_flow": null,
            "grid_area": null,
            "grid_auto_columns": null,
            "grid_auto_flow": null,
            "grid_auto_rows": null,
            "grid_column": null,
            "grid_gap": null,
            "grid_row": null,
            "grid_template_areas": null,
            "grid_template_columns": null,
            "grid_template_rows": null,
            "height": null,
            "justify_content": null,
            "justify_items": null,
            "left": null,
            "margin": null,
            "max_height": null,
            "max_width": null,
            "min_height": null,
            "min_width": null,
            "object_fit": null,
            "object_position": null,
            "order": null,
            "overflow": null,
            "overflow_x": null,
            "overflow_y": null,
            "padding": null,
            "right": null,
            "top": null,
            "visibility": null,
            "width": null
          }
        },
        "057407e5aed5466ba6851d4253e4d6b8": {
          "model_module": "@jupyter-widgets/controls",
          "model_name": "DescriptionStyleModel",
          "model_module_version": "1.5.0",
          "state": {
            "_model_module": "@jupyter-widgets/controls",
            "_model_module_version": "1.5.0",
            "_model_name": "DescriptionStyleModel",
            "_view_count": null,
            "_view_module": "@jupyter-widgets/base",
            "_view_module_version": "1.2.0",
            "_view_name": "StyleView",
            "description_width": ""
          }
        },
        "6a57c0bedcdf4d8c9e69c83ffebce75f": {
          "model_module": "@jupyter-widgets/base",
          "model_name": "LayoutModel",
          "model_module_version": "1.2.0",
          "state": {
            "_model_module": "@jupyter-widgets/base",
            "_model_module_version": "1.2.0",
            "_model_name": "LayoutModel",
            "_view_count": null,
            "_view_module": "@jupyter-widgets/base",
            "_view_module_version": "1.2.0",
            "_view_name": "LayoutView",
            "align_content": null,
            "align_items": null,
            "align_self": null,
            "border": null,
            "bottom": null,
            "display": null,
            "flex": null,
            "flex_flow": null,
            "grid_area": null,
            "grid_auto_columns": null,
            "grid_auto_flow": null,
            "grid_auto_rows": null,
            "grid_column": null,
            "grid_gap": null,
            "grid_row": null,
            "grid_template_areas": null,
            "grid_template_columns": null,
            "grid_template_rows": null,
            "height": null,
            "justify_content": null,
            "justify_items": null,
            "left": null,
            "margin": null,
            "max_height": null,
            "max_width": null,
            "min_height": null,
            "min_width": null,
            "object_fit": null,
            "object_position": null,
            "order": null,
            "overflow": null,
            "overflow_x": null,
            "overflow_y": null,
            "padding": null,
            "right": null,
            "top": null,
            "visibility": null,
            "width": null
          }
        },
        "402120449dbf4f0cb2454f65e87b467c": {
          "model_module": "@jupyter-widgets/controls",
          "model_name": "ProgressStyleModel",
          "model_module_version": "1.5.0",
          "state": {
            "_model_module": "@jupyter-widgets/controls",
            "_model_module_version": "1.5.0",
            "_model_name": "ProgressStyleModel",
            "_view_count": null,
            "_view_module": "@jupyter-widgets/base",
            "_view_module_version": "1.2.0",
            "_view_name": "StyleView",
            "bar_color": null,
            "description_width": ""
          }
        },
        "98bd5157bc2e48afb6769d746ca0fd7f": {
          "model_module": "@jupyter-widgets/base",
          "model_name": "LayoutModel",
          "model_module_version": "1.2.0",
          "state": {
            "_model_module": "@jupyter-widgets/base",
            "_model_module_version": "1.2.0",
            "_model_name": "LayoutModel",
            "_view_count": null,
            "_view_module": "@jupyter-widgets/base",
            "_view_module_version": "1.2.0",
            "_view_name": "LayoutView",
            "align_content": null,
            "align_items": null,
            "align_self": null,
            "border": null,
            "bottom": null,
            "display": null,
            "flex": null,
            "flex_flow": null,
            "grid_area": null,
            "grid_auto_columns": null,
            "grid_auto_flow": null,
            "grid_auto_rows": null,
            "grid_column": null,
            "grid_gap": null,
            "grid_row": null,
            "grid_template_areas": null,
            "grid_template_columns": null,
            "grid_template_rows": null,
            "height": null,
            "justify_content": null,
            "justify_items": null,
            "left": null,
            "margin": null,
            "max_height": null,
            "max_width": null,
            "min_height": null,
            "min_width": null,
            "object_fit": null,
            "object_position": null,
            "order": null,
            "overflow": null,
            "overflow_x": null,
            "overflow_y": null,
            "padding": null,
            "right": null,
            "top": null,
            "visibility": null,
            "width": null
          }
        },
        "d6f1c07638dd465cb3c245f68c69ae5f": {
          "model_module": "@jupyter-widgets/controls",
          "model_name": "DescriptionStyleModel",
          "model_module_version": "1.5.0",
          "state": {
            "_model_module": "@jupyter-widgets/controls",
            "_model_module_version": "1.5.0",
            "_model_name": "DescriptionStyleModel",
            "_view_count": null,
            "_view_module": "@jupyter-widgets/base",
            "_view_module_version": "1.2.0",
            "_view_name": "StyleView",
            "description_width": ""
          }
        },
        "efe06babc4f748fbbfa2729fd2449448": {
          "model_module": "@jupyter-widgets/controls",
          "model_name": "HBoxModel",
          "model_module_version": "1.5.0",
          "state": {
            "_dom_classes": [],
            "_model_module": "@jupyter-widgets/controls",
            "_model_module_version": "1.5.0",
            "_model_name": "HBoxModel",
            "_view_count": null,
            "_view_module": "@jupyter-widgets/controls",
            "_view_module_version": "1.5.0",
            "_view_name": "HBoxView",
            "box_style": "",
            "children": [
              "IPY_MODEL_8c73349ccdb240acaa96dcce87d0c1c4",
              "IPY_MODEL_7a48163e65d941cd8a9ff4055f2ecb29",
              "IPY_MODEL_b37f35b2bf024fedb9b84b61026614ce"
            ],
            "layout": "IPY_MODEL_d353b2e248a5457996c0b72dce54fa5a"
          }
        },
        "8c73349ccdb240acaa96dcce87d0c1c4": {
          "model_module": "@jupyter-widgets/controls",
          "model_name": "HTMLModel",
          "model_module_version": "1.5.0",
          "state": {
            "_dom_classes": [],
            "_model_module": "@jupyter-widgets/controls",
            "_model_module_version": "1.5.0",
            "_model_name": "HTMLModel",
            "_view_count": null,
            "_view_module": "@jupyter-widgets/controls",
            "_view_module_version": "1.5.0",
            "_view_name": "HTMLView",
            "description": "",
            "description_tooltip": null,
            "layout": "IPY_MODEL_a388ab29d3f747d4854a86b1f4331ccd",
            "placeholder": "​",
            "style": "IPY_MODEL_02fa2229ed2c4245a229203c3550771e",
            "value": "Loading checkpoint shards: 100%"
          }
        },
        "7a48163e65d941cd8a9ff4055f2ecb29": {
          "model_module": "@jupyter-widgets/controls",
          "model_name": "FloatProgressModel",
          "model_module_version": "1.5.0",
          "state": {
            "_dom_classes": [],
            "_model_module": "@jupyter-widgets/controls",
            "_model_module_version": "1.5.0",
            "_model_name": "FloatProgressModel",
            "_view_count": null,
            "_view_module": "@jupyter-widgets/controls",
            "_view_module_version": "1.5.0",
            "_view_name": "ProgressView",
            "bar_style": "success",
            "description": "",
            "description_tooltip": null,
            "layout": "IPY_MODEL_28d7a07ec85f4e9dadd1c9e324d53df6",
            "max": 2,
            "min": 0,
            "orientation": "horizontal",
            "style": "IPY_MODEL_afe029992de645f880e5d3e09bc34fd5",
            "value": 2
          }
        },
        "b37f35b2bf024fedb9b84b61026614ce": {
          "model_module": "@jupyter-widgets/controls",
          "model_name": "HTMLModel",
          "model_module_version": "1.5.0",
          "state": {
            "_dom_classes": [],
            "_model_module": "@jupyter-widgets/controls",
            "_model_module_version": "1.5.0",
            "_model_name": "HTMLModel",
            "_view_count": null,
            "_view_module": "@jupyter-widgets/controls",
            "_view_module_version": "1.5.0",
            "_view_name": "HTMLView",
            "description": "",
            "description_tooltip": null,
            "layout": "IPY_MODEL_0e85daf4521342f18875bcde54815ede",
            "placeholder": "​",
            "style": "IPY_MODEL_871a8b3998754b33b77407eeb5134346",
            "value": " 2/2 [00:11&lt;00:00,  5.51s/it]"
          }
        },
        "d353b2e248a5457996c0b72dce54fa5a": {
          "model_module": "@jupyter-widgets/base",
          "model_name": "LayoutModel",
          "model_module_version": "1.2.0",
          "state": {
            "_model_module": "@jupyter-widgets/base",
            "_model_module_version": "1.2.0",
            "_model_name": "LayoutModel",
            "_view_count": null,
            "_view_module": "@jupyter-widgets/base",
            "_view_module_version": "1.2.0",
            "_view_name": "LayoutView",
            "align_content": null,
            "align_items": null,
            "align_self": null,
            "border": null,
            "bottom": null,
            "display": null,
            "flex": null,
            "flex_flow": null,
            "grid_area": null,
            "grid_auto_columns": null,
            "grid_auto_flow": null,
            "grid_auto_rows": null,
            "grid_column": null,
            "grid_gap": null,
            "grid_row": null,
            "grid_template_areas": null,
            "grid_template_columns": null,
            "grid_template_rows": null,
            "height": null,
            "justify_content": null,
            "justify_items": null,
            "left": null,
            "margin": null,
            "max_height": null,
            "max_width": null,
            "min_height": null,
            "min_width": null,
            "object_fit": null,
            "object_position": null,
            "order": null,
            "overflow": null,
            "overflow_x": null,
            "overflow_y": null,
            "padding": null,
            "right": null,
            "top": null,
            "visibility": null,
            "width": null
          }
        },
        "a388ab29d3f747d4854a86b1f4331ccd": {
          "model_module": "@jupyter-widgets/base",
          "model_name": "LayoutModel",
          "model_module_version": "1.2.0",
          "state": {
            "_model_module": "@jupyter-widgets/base",
            "_model_module_version": "1.2.0",
            "_model_name": "LayoutModel",
            "_view_count": null,
            "_view_module": "@jupyter-widgets/base",
            "_view_module_version": "1.2.0",
            "_view_name": "LayoutView",
            "align_content": null,
            "align_items": null,
            "align_self": null,
            "border": null,
            "bottom": null,
            "display": null,
            "flex": null,
            "flex_flow": null,
            "grid_area": null,
            "grid_auto_columns": null,
            "grid_auto_flow": null,
            "grid_auto_rows": null,
            "grid_column": null,
            "grid_gap": null,
            "grid_row": null,
            "grid_template_areas": null,
            "grid_template_columns": null,
            "grid_template_rows": null,
            "height": null,
            "justify_content": null,
            "justify_items": null,
            "left": null,
            "margin": null,
            "max_height": null,
            "max_width": null,
            "min_height": null,
            "min_width": null,
            "object_fit": null,
            "object_position": null,
            "order": null,
            "overflow": null,
            "overflow_x": null,
            "overflow_y": null,
            "padding": null,
            "right": null,
            "top": null,
            "visibility": null,
            "width": null
          }
        },
        "02fa2229ed2c4245a229203c3550771e": {
          "model_module": "@jupyter-widgets/controls",
          "model_name": "DescriptionStyleModel",
          "model_module_version": "1.5.0",
          "state": {
            "_model_module": "@jupyter-widgets/controls",
            "_model_module_version": "1.5.0",
            "_model_name": "DescriptionStyleModel",
            "_view_count": null,
            "_view_module": "@jupyter-widgets/base",
            "_view_module_version": "1.2.0",
            "_view_name": "StyleView",
            "description_width": ""
          }
        },
        "28d7a07ec85f4e9dadd1c9e324d53df6": {
          "model_module": "@jupyter-widgets/base",
          "model_name": "LayoutModel",
          "model_module_version": "1.2.0",
          "state": {
            "_model_module": "@jupyter-widgets/base",
            "_model_module_version": "1.2.0",
            "_model_name": "LayoutModel",
            "_view_count": null,
            "_view_module": "@jupyter-widgets/base",
            "_view_module_version": "1.2.0",
            "_view_name": "LayoutView",
            "align_content": null,
            "align_items": null,
            "align_self": null,
            "border": null,
            "bottom": null,
            "display": null,
            "flex": null,
            "flex_flow": null,
            "grid_area": null,
            "grid_auto_columns": null,
            "grid_auto_flow": null,
            "grid_auto_rows": null,
            "grid_column": null,
            "grid_gap": null,
            "grid_row": null,
            "grid_template_areas": null,
            "grid_template_columns": null,
            "grid_template_rows": null,
            "height": null,
            "justify_content": null,
            "justify_items": null,
            "left": null,
            "margin": null,
            "max_height": null,
            "max_width": null,
            "min_height": null,
            "min_width": null,
            "object_fit": null,
            "object_position": null,
            "order": null,
            "overflow": null,
            "overflow_x": null,
            "overflow_y": null,
            "padding": null,
            "right": null,
            "top": null,
            "visibility": null,
            "width": null
          }
        },
        "afe029992de645f880e5d3e09bc34fd5": {
          "model_module": "@jupyter-widgets/controls",
          "model_name": "ProgressStyleModel",
          "model_module_version": "1.5.0",
          "state": {
            "_model_module": "@jupyter-widgets/controls",
            "_model_module_version": "1.5.0",
            "_model_name": "ProgressStyleModel",
            "_view_count": null,
            "_view_module": "@jupyter-widgets/base",
            "_view_module_version": "1.2.0",
            "_view_name": "StyleView",
            "bar_color": null,
            "description_width": ""
          }
        },
        "0e85daf4521342f18875bcde54815ede": {
          "model_module": "@jupyter-widgets/base",
          "model_name": "LayoutModel",
          "model_module_version": "1.2.0",
          "state": {
            "_model_module": "@jupyter-widgets/base",
            "_model_module_version": "1.2.0",
            "_model_name": "LayoutModel",
            "_view_count": null,
            "_view_module": "@jupyter-widgets/base",
            "_view_module_version": "1.2.0",
            "_view_name": "LayoutView",
            "align_content": null,
            "align_items": null,
            "align_self": null,
            "border": null,
            "bottom": null,
            "display": null,
            "flex": null,
            "flex_flow": null,
            "grid_area": null,
            "grid_auto_columns": null,
            "grid_auto_flow": null,
            "grid_auto_rows": null,
            "grid_column": null,
            "grid_gap": null,
            "grid_row": null,
            "grid_template_areas": null,
            "grid_template_columns": null,
            "grid_template_rows": null,
            "height": null,
            "justify_content": null,
            "justify_items": null,
            "left": null,
            "margin": null,
            "max_height": null,
            "max_width": null,
            "min_height": null,
            "min_width": null,
            "object_fit": null,
            "object_position": null,
            "order": null,
            "overflow": null,
            "overflow_x": null,
            "overflow_y": null,
            "padding": null,
            "right": null,
            "top": null,
            "visibility": null,
            "width": null
          }
        },
        "871a8b3998754b33b77407eeb5134346": {
          "model_module": "@jupyter-widgets/controls",
          "model_name": "DescriptionStyleModel",
          "model_module_version": "1.5.0",
          "state": {
            "_model_module": "@jupyter-widgets/controls",
            "_model_module_version": "1.5.0",
            "_model_name": "DescriptionStyleModel",
            "_view_count": null,
            "_view_module": "@jupyter-widgets/base",
            "_view_module_version": "1.2.0",
            "_view_name": "StyleView",
            "description_width": ""
          }
        }
      }
    }
  },
  "nbformat": 4,
  "nbformat_minor": 0
}